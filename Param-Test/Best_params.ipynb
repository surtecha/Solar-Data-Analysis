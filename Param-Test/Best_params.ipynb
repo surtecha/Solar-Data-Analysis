{
 "cells": [
  {
   "cell_type": "code",
   "execution_count": 2,
   "metadata": {},
   "outputs": [
    {
     "name": "stdout",
     "output_type": "stream",
     "text": [
      "Running combination 1/105: Cycle 19, Seq Length 60, Horizon 1\n"
     ]
    },
    {
     "name": "stderr",
     "output_type": "stream",
     "text": [
      "/opt/anaconda3/envs/ssn/lib/python3.11/site-packages/keras/src/layers/rnn/rnn.py:200: UserWarning: Do not pass an `input_shape`/`input_dim` argument to a layer. When using Sequential models, prefer using an `Input(shape)` object as the first layer in the model instead.\n",
      "  super().__init__(**kwargs)\n"
     ]
    },
    {
     "name": "stdout",
     "output_type": "stream",
     "text": [
      "SSN RMSE: 3.7254, PICP: 0.3721, MPIW: 5.1186\n",
      "TSI RMSE: 0.0753, PICP: 0.0000, MPIW: 0.0000\n",
      "Running combination 2/105: Cycle 19, Seq Length 60, Horizon 3\n"
     ]
    },
    {
     "name": "stderr",
     "output_type": "stream",
     "text": [
      "/opt/anaconda3/envs/ssn/lib/python3.11/site-packages/keras/src/layers/rnn/rnn.py:200: UserWarning: Do not pass an `input_shape`/`input_dim` argument to a layer. When using Sequential models, prefer using an `Input(shape)` object as the first layer in the model instead.\n",
      "  super().__init__(**kwargs)\n"
     ]
    },
    {
     "name": "stdout",
     "output_type": "stream",
     "text": [
      "SSN RMSE: 5.5189, PICP: 0.1951, MPIW: 4.7796\n",
      "TSI RMSE: 0.0992, PICP: 0.0000, MPIW: 0.0000\n",
      "Running combination 3/105: Cycle 19, Seq Length 60, Horizon 6\n"
     ]
    },
    {
     "name": "stderr",
     "output_type": "stream",
     "text": [
      "/opt/anaconda3/envs/ssn/lib/python3.11/site-packages/keras/src/layers/rnn/rnn.py:200: UserWarning: Do not pass an `input_shape`/`input_dim` argument to a layer. When using Sequential models, prefer using an `Input(shape)` object as the first layer in the model instead.\n",
      "  super().__init__(**kwargs)\n"
     ]
    },
    {
     "name": "stdout",
     "output_type": "stream",
     "text": [
      "SSN RMSE: 7.5658, PICP: 0.6754, MPIW: 21.1508\n",
      "TSI RMSE: 0.1381, PICP: 0.0000, MPIW: 0.0000\n",
      "Running combination 4/105: Cycle 19, Seq Length 72, Horizon 1\n"
     ]
    },
    {
     "name": "stderr",
     "output_type": "stream",
     "text": [
      "/opt/anaconda3/envs/ssn/lib/python3.11/site-packages/keras/src/layers/rnn/rnn.py:200: UserWarning: Do not pass an `input_shape`/`input_dim` argument to a layer. When using Sequential models, prefer using an `Input(shape)` object as the first layer in the model instead.\n",
      "  super().__init__(**kwargs)\n"
     ]
    },
    {
     "name": "stdout",
     "output_type": "stream",
     "text": [
      "SSN RMSE: 3.8577, PICP: 0.2558, MPIW: 4.2733\n",
      "TSI RMSE: 0.0833, PICP: 0.0000, MPIW: 0.0000\n",
      "Running combination 5/105: Cycle 19, Seq Length 72, Horizon 3\n"
     ]
    },
    {
     "name": "stderr",
     "output_type": "stream",
     "text": [
      "/opt/anaconda3/envs/ssn/lib/python3.11/site-packages/keras/src/layers/rnn/rnn.py:200: UserWarning: Do not pass an `input_shape`/`input_dim` argument to a layer. When using Sequential models, prefer using an `Input(shape)` object as the first layer in the model instead.\n",
      "  super().__init__(**kwargs)\n"
     ]
    },
    {
     "name": "stdout",
     "output_type": "stream",
     "text": [
      "SSN RMSE: 5.7817, PICP: 0.3089, MPIW: 7.6729\n",
      "TSI RMSE: 0.1015, PICP: 0.0000, MPIW: 0.0000\n",
      "Running combination 6/105: Cycle 19, Seq Length 72, Horizon 6\n"
     ]
    },
    {
     "name": "stderr",
     "output_type": "stream",
     "text": [
      "/opt/anaconda3/envs/ssn/lib/python3.11/site-packages/keras/src/layers/rnn/rnn.py:200: UserWarning: Do not pass an `input_shape`/`input_dim` argument to a layer. When using Sequential models, prefer using an `Input(shape)` object as the first layer in the model instead.\n",
      "  super().__init__(**kwargs)\n"
     ]
    },
    {
     "name": "stdout",
     "output_type": "stream",
     "text": [
      "SSN RMSE: 6.4350, PICP: 0.5088, MPIW: 9.7153\n",
      "TSI RMSE: 0.1534, PICP: 0.0000, MPIW: 0.0000\n",
      "Running combination 7/105: Cycle 19, Seq Length 84, Horizon 1\n"
     ]
    },
    {
     "name": "stderr",
     "output_type": "stream",
     "text": [
      "/opt/anaconda3/envs/ssn/lib/python3.11/site-packages/keras/src/layers/rnn/rnn.py:200: UserWarning: Do not pass an `input_shape`/`input_dim` argument to a layer. When using Sequential models, prefer using an `Input(shape)` object as the first layer in the model instead.\n",
      "  super().__init__(**kwargs)\n"
     ]
    },
    {
     "name": "stdout",
     "output_type": "stream",
     "text": [
      "SSN RMSE: 3.8992, PICP: 0.4884, MPIW: 7.2491\n",
      "TSI RMSE: 0.0790, PICP: 0.0000, MPIW: 0.0000\n",
      "Running combination 8/105: Cycle 19, Seq Length 84, Horizon 3\n"
     ]
    },
    {
     "name": "stderr",
     "output_type": "stream",
     "text": [
      "/opt/anaconda3/envs/ssn/lib/python3.11/site-packages/keras/src/layers/rnn/rnn.py:200: UserWarning: Do not pass an `input_shape`/`input_dim` argument to a layer. When using Sequential models, prefer using an `Input(shape)` object as the first layer in the model instead.\n",
      "  super().__init__(**kwargs)\n"
     ]
    },
    {
     "name": "stdout",
     "output_type": "stream",
     "text": [
      "SSN RMSE: 5.6932, PICP: 0.3415, MPIW: 7.8545\n",
      "TSI RMSE: 0.0997, PICP: 0.0000, MPIW: 0.0000\n",
      "Running combination 9/105: Cycle 19, Seq Length 84, Horizon 6\n"
     ]
    },
    {
     "name": "stderr",
     "output_type": "stream",
     "text": [
      "/opt/anaconda3/envs/ssn/lib/python3.11/site-packages/keras/src/layers/rnn/rnn.py:200: UserWarning: Do not pass an `input_shape`/`input_dim` argument to a layer. When using Sequential models, prefer using an `Input(shape)` object as the first layer in the model instead.\n",
      "  super().__init__(**kwargs)\n"
     ]
    },
    {
     "name": "stdout",
     "output_type": "stream",
     "text": [
      "SSN RMSE: 6.2068, PICP: 0.4737, MPIW: 9.4818\n",
      "TSI RMSE: 0.1551, PICP: 0.0000, MPIW: 0.0000\n",
      "Running combination 10/105: Cycle 19, Seq Length 96, Horizon 1\n"
     ]
    },
    {
     "name": "stderr",
     "output_type": "stream",
     "text": [
      "/opt/anaconda3/envs/ssn/lib/python3.11/site-packages/keras/src/layers/rnn/rnn.py:200: UserWarning: Do not pass an `input_shape`/`input_dim` argument to a layer. When using Sequential models, prefer using an `Input(shape)` object as the first layer in the model instead.\n",
      "  super().__init__(**kwargs)\n"
     ]
    },
    {
     "name": "stdout",
     "output_type": "stream",
     "text": [
      "SSN RMSE: 3.2134, PICP: 0.4651, MPIW: 6.2283\n",
      "TSI RMSE: 0.0738, PICP: 0.0000, MPIW: 0.0000\n",
      "Running combination 11/105: Cycle 19, Seq Length 96, Horizon 3\n"
     ]
    },
    {
     "name": "stderr",
     "output_type": "stream",
     "text": [
      "/opt/anaconda3/envs/ssn/lib/python3.11/site-packages/keras/src/layers/rnn/rnn.py:200: UserWarning: Do not pass an `input_shape`/`input_dim` argument to a layer. When using Sequential models, prefer using an `Input(shape)` object as the first layer in the model instead.\n",
      "  super().__init__(**kwargs)\n"
     ]
    },
    {
     "name": "stdout",
     "output_type": "stream",
     "text": [
      "SSN RMSE: 6.2853, PICP: 0.3089, MPIW: 8.9169\n",
      "TSI RMSE: 0.0977, PICP: 0.0000, MPIW: 0.0000\n",
      "Running combination 12/105: Cycle 19, Seq Length 96, Horizon 6\n"
     ]
    },
    {
     "name": "stderr",
     "output_type": "stream",
     "text": [
      "/opt/anaconda3/envs/ssn/lib/python3.11/site-packages/keras/src/layers/rnn/rnn.py:200: UserWarning: Do not pass an `input_shape`/`input_dim` argument to a layer. When using Sequential models, prefer using an `Input(shape)` object as the first layer in the model instead.\n",
      "  super().__init__(**kwargs)\n"
     ]
    },
    {
     "name": "stdout",
     "output_type": "stream",
     "text": [
      "SSN RMSE: 6.6838, PICP: 0.6360, MPIW: 12.1302\n",
      "TSI RMSE: 0.1563, PICP: 0.0000, MPIW: 0.0000\n",
      "Running combination 13/105: Cycle 19, Seq Length 108, Horizon 1\n"
     ]
    },
    {
     "name": "stderr",
     "output_type": "stream",
     "text": [
      "/opt/anaconda3/envs/ssn/lib/python3.11/site-packages/keras/src/layers/rnn/rnn.py:200: UserWarning: Do not pass an `input_shape`/`input_dim` argument to a layer. When using Sequential models, prefer using an `Input(shape)` object as the first layer in the model instead.\n",
      "  super().__init__(**kwargs)\n"
     ]
    },
    {
     "name": "stdout",
     "output_type": "stream",
     "text": [
      "SSN RMSE: 3.3964, PICP: 0.4186, MPIW: 5.5701\n",
      "TSI RMSE: 0.0794, PICP: 0.0000, MPIW: 0.0000\n",
      "Running combination 14/105: Cycle 19, Seq Length 108, Horizon 3\n"
     ]
    },
    {
     "name": "stderr",
     "output_type": "stream",
     "text": [
      "/opt/anaconda3/envs/ssn/lib/python3.11/site-packages/keras/src/layers/rnn/rnn.py:200: UserWarning: Do not pass an `input_shape`/`input_dim` argument to a layer. When using Sequential models, prefer using an `Input(shape)` object as the first layer in the model instead.\n",
      "  super().__init__(**kwargs)\n"
     ]
    },
    {
     "name": "stdout",
     "output_type": "stream",
     "text": [
      "SSN RMSE: 5.8556, PICP: 0.3171, MPIW: 6.3865\n",
      "TSI RMSE: 0.1128, PICP: 0.0000, MPIW: 0.0000\n",
      "Running combination 15/105: Cycle 19, Seq Length 108, Horizon 6\n"
     ]
    },
    {
     "name": "stderr",
     "output_type": "stream",
     "text": [
      "/opt/anaconda3/envs/ssn/lib/python3.11/site-packages/keras/src/layers/rnn/rnn.py:200: UserWarning: Do not pass an `input_shape`/`input_dim` argument to a layer. When using Sequential models, prefer using an `Input(shape)` object as the first layer in the model instead.\n",
      "  super().__init__(**kwargs)\n"
     ]
    },
    {
     "name": "stdout",
     "output_type": "stream",
     "text": [
      "SSN RMSE: 6.9485, PICP: 0.5439, MPIW: 11.6128\n",
      "TSI RMSE: 0.1528, PICP: 0.0000, MPIW: 0.0000\n",
      "Running combination 16/105: Cycle 19, Seq Length 120, Horizon 1\n"
     ]
    },
    {
     "name": "stderr",
     "output_type": "stream",
     "text": [
      "/opt/anaconda3/envs/ssn/lib/python3.11/site-packages/keras/src/layers/rnn/rnn.py:200: UserWarning: Do not pass an `input_shape`/`input_dim` argument to a layer. When using Sequential models, prefer using an `Input(shape)` object as the first layer in the model instead.\n",
      "  super().__init__(**kwargs)\n"
     ]
    },
    {
     "name": "stdout",
     "output_type": "stream",
     "text": [
      "SSN RMSE: 3.7979, PICP: 0.2326, MPIW: 4.1638\n",
      "TSI RMSE: 0.0897, PICP: 0.0000, MPIW: 0.0000\n",
      "Running combination 17/105: Cycle 19, Seq Length 120, Horizon 3\n"
     ]
    },
    {
     "name": "stderr",
     "output_type": "stream",
     "text": [
      "/opt/anaconda3/envs/ssn/lib/python3.11/site-packages/keras/src/layers/rnn/rnn.py:200: UserWarning: Do not pass an `input_shape`/`input_dim` argument to a layer. When using Sequential models, prefer using an `Input(shape)` object as the first layer in the model instead.\n",
      "  super().__init__(**kwargs)\n"
     ]
    },
    {
     "name": "stdout",
     "output_type": "stream",
     "text": [
      "SSN RMSE: 5.5590, PICP: 0.2520, MPIW: 5.2844\n",
      "TSI RMSE: 0.1072, PICP: 0.0000, MPIW: 0.0000\n",
      "Running combination 18/105: Cycle 19, Seq Length 120, Horizon 6\n"
     ]
    },
    {
     "name": "stderr",
     "output_type": "stream",
     "text": [
      "/opt/anaconda3/envs/ssn/lib/python3.11/site-packages/keras/src/layers/rnn/rnn.py:200: UserWarning: Do not pass an `input_shape`/`input_dim` argument to a layer. When using Sequential models, prefer using an `Input(shape)` object as the first layer in the model instead.\n",
      "  super().__init__(**kwargs)\n"
     ]
    },
    {
     "name": "stdout",
     "output_type": "stream",
     "text": [
      "SSN RMSE: 6.5717, PICP: 0.4342, MPIW: 9.2553\n",
      "TSI RMSE: 0.1632, PICP: 0.0000, MPIW: 0.0000\n",
      "Running combination 19/105: Cycle 19, Seq Length 132, Horizon 1\n"
     ]
    },
    {
     "name": "stderr",
     "output_type": "stream",
     "text": [
      "/opt/anaconda3/envs/ssn/lib/python3.11/site-packages/keras/src/layers/rnn/rnn.py:200: UserWarning: Do not pass an `input_shape`/`input_dim` argument to a layer. When using Sequential models, prefer using an `Input(shape)` object as the first layer in the model instead.\n",
      "  super().__init__(**kwargs)\n"
     ]
    },
    {
     "name": "stdout",
     "output_type": "stream",
     "text": [
      "SSN RMSE: 3.4723, PICP: 0.1395, MPIW: 3.2378\n",
      "TSI RMSE: 0.0813, PICP: 0.0000, MPIW: 0.0000\n",
      "Running combination 20/105: Cycle 19, Seq Length 132, Horizon 3\n"
     ]
    },
    {
     "name": "stderr",
     "output_type": "stream",
     "text": [
      "/opt/anaconda3/envs/ssn/lib/python3.11/site-packages/keras/src/layers/rnn/rnn.py:200: UserWarning: Do not pass an `input_shape`/`input_dim` argument to a layer. When using Sequential models, prefer using an `Input(shape)` object as the first layer in the model instead.\n",
      "  super().__init__(**kwargs)\n"
     ]
    },
    {
     "name": "stdout",
     "output_type": "stream",
     "text": [
      "SSN RMSE: 6.8580, PICP: 0.3008, MPIW: 8.0299\n",
      "TSI RMSE: 0.0954, PICP: 0.0000, MPIW: 0.0000\n",
      "Running combination 21/105: Cycle 19, Seq Length 132, Horizon 6\n"
     ]
    },
    {
     "name": "stderr",
     "output_type": "stream",
     "text": [
      "/opt/anaconda3/envs/ssn/lib/python3.11/site-packages/keras/src/layers/rnn/rnn.py:200: UserWarning: Do not pass an `input_shape`/`input_dim` argument to a layer. When using Sequential models, prefer using an `Input(shape)` object as the first layer in the model instead.\n",
      "  super().__init__(**kwargs)\n"
     ]
    },
    {
     "name": "stdout",
     "output_type": "stream",
     "text": [
      "SSN RMSE: 6.0008, PICP: 0.7675, MPIW: 16.6102\n",
      "TSI RMSE: 0.1708, PICP: 0.0000, MPIW: 0.0000\n",
      "Running combination 22/105: Cycle 20, Seq Length 60, Horizon 1\n"
     ]
    },
    {
     "name": "stderr",
     "output_type": "stream",
     "text": [
      "/opt/anaconda3/envs/ssn/lib/python3.11/site-packages/keras/src/layers/rnn/rnn.py:200: UserWarning: Do not pass an `input_shape`/`input_dim` argument to a layer. When using Sequential models, prefer using an `Input(shape)` object as the first layer in the model instead.\n",
      "  super().__init__(**kwargs)\n"
     ]
    },
    {
     "name": "stdout",
     "output_type": "stream",
     "text": [
      "SSN RMSE: 4.0680, PICP: 0.3023, MPIW: 6.5168\n",
      "TSI RMSE: 0.0862, PICP: 0.0000, MPIW: 0.0000\n",
      "Running combination 23/105: Cycle 20, Seq Length 60, Horizon 3\n"
     ]
    },
    {
     "name": "stderr",
     "output_type": "stream",
     "text": [
      "/opt/anaconda3/envs/ssn/lib/python3.11/site-packages/keras/src/layers/rnn/rnn.py:200: UserWarning: Do not pass an `input_shape`/`input_dim` argument to a layer. When using Sequential models, prefer using an `Input(shape)` object as the first layer in the model instead.\n",
      "  super().__init__(**kwargs)\n"
     ]
    },
    {
     "name": "stdout",
     "output_type": "stream",
     "text": [
      "SSN RMSE: 6.0479, PICP: 0.3089, MPIW: 7.6051\n",
      "TSI RMSE: 0.1211, PICP: 0.0000, MPIW: 0.0000\n",
      "Running combination 24/105: Cycle 20, Seq Length 60, Horizon 6\n"
     ]
    },
    {
     "name": "stderr",
     "output_type": "stream",
     "text": [
      "/opt/anaconda3/envs/ssn/lib/python3.11/site-packages/keras/src/layers/rnn/rnn.py:200: UserWarning: Do not pass an `input_shape`/`input_dim` argument to a layer. When using Sequential models, prefer using an `Input(shape)` object as the first layer in the model instead.\n",
      "  super().__init__(**kwargs)\n"
     ]
    },
    {
     "name": "stdout",
     "output_type": "stream",
     "text": [
      "SSN RMSE: 6.4457, PICP: 0.6009, MPIW: 12.8252\n",
      "TSI RMSE: 0.1708, PICP: 0.0000, MPIW: 0.0000\n",
      "Running combination 25/105: Cycle 20, Seq Length 72, Horizon 1\n"
     ]
    },
    {
     "name": "stderr",
     "output_type": "stream",
     "text": [
      "/opt/anaconda3/envs/ssn/lib/python3.11/site-packages/keras/src/layers/rnn/rnn.py:200: UserWarning: Do not pass an `input_shape`/`input_dim` argument to a layer. When using Sequential models, prefer using an `Input(shape)` object as the first layer in the model instead.\n",
      "  super().__init__(**kwargs)\n"
     ]
    },
    {
     "name": "stdout",
     "output_type": "stream",
     "text": [
      "SSN RMSE: 4.2201, PICP: 0.3023, MPIW: 6.1201\n",
      "TSI RMSE: 0.0791, PICP: 0.0000, MPIW: 0.0000\n",
      "Running combination 26/105: Cycle 20, Seq Length 72, Horizon 3\n"
     ]
    },
    {
     "name": "stderr",
     "output_type": "stream",
     "text": [
      "/opt/anaconda3/envs/ssn/lib/python3.11/site-packages/keras/src/layers/rnn/rnn.py:200: UserWarning: Do not pass an `input_shape`/`input_dim` argument to a layer. When using Sequential models, prefer using an `Input(shape)` object as the first layer in the model instead.\n",
      "  super().__init__(**kwargs)\n"
     ]
    },
    {
     "name": "stdout",
     "output_type": "stream",
     "text": [
      "SSN RMSE: 7.2045, PICP: 0.4228, MPIW: 11.8019\n",
      "TSI RMSE: 0.0984, PICP: 0.0000, MPIW: 0.0000\n",
      "Running combination 27/105: Cycle 20, Seq Length 72, Horizon 6\n"
     ]
    },
    {
     "name": "stderr",
     "output_type": "stream",
     "text": [
      "/opt/anaconda3/envs/ssn/lib/python3.11/site-packages/keras/src/layers/rnn/rnn.py:200: UserWarning: Do not pass an `input_shape`/`input_dim` argument to a layer. When using Sequential models, prefer using an `Input(shape)` object as the first layer in the model instead.\n",
      "  super().__init__(**kwargs)\n"
     ]
    },
    {
     "name": "stdout",
     "output_type": "stream",
     "text": [
      "SSN RMSE: 7.1791, PICP: 0.4298, MPIW: 12.4238\n",
      "TSI RMSE: 0.1625, PICP: 0.0000, MPIW: 0.0000\n",
      "Running combination 28/105: Cycle 20, Seq Length 84, Horizon 1\n"
     ]
    },
    {
     "name": "stderr",
     "output_type": "stream",
     "text": [
      "/opt/anaconda3/envs/ssn/lib/python3.11/site-packages/keras/src/layers/rnn/rnn.py:200: UserWarning: Do not pass an `input_shape`/`input_dim` argument to a layer. When using Sequential models, prefer using an `Input(shape)` object as the first layer in the model instead.\n",
      "  super().__init__(**kwargs)\n"
     ]
    },
    {
     "name": "stdout",
     "output_type": "stream",
     "text": [
      "SSN RMSE: 3.9300, PICP: 0.3023, MPIW: 5.0902\n",
      "TSI RMSE: 0.1018, PICP: 0.0000, MPIW: 0.0000\n",
      "Running combination 29/105: Cycle 20, Seq Length 84, Horizon 3\n"
     ]
    },
    {
     "name": "stderr",
     "output_type": "stream",
     "text": [
      "/opt/anaconda3/envs/ssn/lib/python3.11/site-packages/keras/src/layers/rnn/rnn.py:200: UserWarning: Do not pass an `input_shape`/`input_dim` argument to a layer. When using Sequential models, prefer using an `Input(shape)` object as the first layer in the model instead.\n",
      "  super().__init__(**kwargs)\n"
     ]
    },
    {
     "name": "stdout",
     "output_type": "stream",
     "text": [
      "SSN RMSE: 6.2153, PICP: 0.2276, MPIW: 6.7991\n",
      "TSI RMSE: 0.1137, PICP: 0.0000, MPIW: 0.0000\n",
      "Running combination 30/105: Cycle 20, Seq Length 84, Horizon 6\n"
     ]
    },
    {
     "name": "stderr",
     "output_type": "stream",
     "text": [
      "/opt/anaconda3/envs/ssn/lib/python3.11/site-packages/keras/src/layers/rnn/rnn.py:200: UserWarning: Do not pass an `input_shape`/`input_dim` argument to a layer. When using Sequential models, prefer using an `Input(shape)` object as the first layer in the model instead.\n",
      "  super().__init__(**kwargs)\n"
     ]
    },
    {
     "name": "stdout",
     "output_type": "stream",
     "text": [
      "SSN RMSE: 8.0238, PICP: 0.4649, MPIW: 14.5316\n",
      "TSI RMSE: 0.1639, PICP: 0.0000, MPIW: 0.0000\n",
      "Running combination 31/105: Cycle 20, Seq Length 96, Horizon 1\n"
     ]
    },
    {
     "name": "stderr",
     "output_type": "stream",
     "text": [
      "/opt/anaconda3/envs/ssn/lib/python3.11/site-packages/keras/src/layers/rnn/rnn.py:200: UserWarning: Do not pass an `input_shape`/`input_dim` argument to a layer. When using Sequential models, prefer using an `Input(shape)` object as the first layer in the model instead.\n",
      "  super().__init__(**kwargs)\n"
     ]
    },
    {
     "name": "stdout",
     "output_type": "stream",
     "text": [
      "SSN RMSE: 4.0642, PICP: 0.4651, MPIW: 8.2572\n",
      "TSI RMSE: 0.0844, PICP: 0.0000, MPIW: 0.0000\n",
      "Running combination 32/105: Cycle 20, Seq Length 96, Horizon 3\n"
     ]
    },
    {
     "name": "stderr",
     "output_type": "stream",
     "text": [
      "/opt/anaconda3/envs/ssn/lib/python3.11/site-packages/keras/src/layers/rnn/rnn.py:200: UserWarning: Do not pass an `input_shape`/`input_dim` argument to a layer. When using Sequential models, prefer using an `Input(shape)` object as the first layer in the model instead.\n",
      "  super().__init__(**kwargs)\n"
     ]
    },
    {
     "name": "stdout",
     "output_type": "stream",
     "text": [
      "SSN RMSE: 7.9213, PICP: 0.3089, MPIW: 11.1547\n",
      "TSI RMSE: 0.1007, PICP: 0.0000, MPIW: 0.0000\n",
      "Running combination 33/105: Cycle 20, Seq Length 96, Horizon 6\n"
     ]
    },
    {
     "name": "stderr",
     "output_type": "stream",
     "text": [
      "/opt/anaconda3/envs/ssn/lib/python3.11/site-packages/keras/src/layers/rnn/rnn.py:200: UserWarning: Do not pass an `input_shape`/`input_dim` argument to a layer. When using Sequential models, prefer using an `Input(shape)` object as the first layer in the model instead.\n",
      "  super().__init__(**kwargs)\n"
     ]
    },
    {
     "name": "stdout",
     "output_type": "stream",
     "text": [
      "SSN RMSE: 8.6974, PICP: 0.4518, MPIW: 14.7621\n",
      "TSI RMSE: 0.1296, PICP: 0.0000, MPIW: 0.0000\n",
      "Running combination 34/105: Cycle 20, Seq Length 108, Horizon 1\n"
     ]
    },
    {
     "name": "stderr",
     "output_type": "stream",
     "text": [
      "/opt/anaconda3/envs/ssn/lib/python3.11/site-packages/keras/src/layers/rnn/rnn.py:200: UserWarning: Do not pass an `input_shape`/`input_dim` argument to a layer. When using Sequential models, prefer using an `Input(shape)` object as the first layer in the model instead.\n",
      "  super().__init__(**kwargs)\n"
     ]
    },
    {
     "name": "stdout",
     "output_type": "stream",
     "text": [
      "SSN RMSE: 4.7356, PICP: 0.3488, MPIW: 6.8647\n",
      "TSI RMSE: 0.0817, PICP: 0.0000, MPIW: 0.0000\n",
      "Running combination 35/105: Cycle 20, Seq Length 108, Horizon 3\n"
     ]
    },
    {
     "name": "stderr",
     "output_type": "stream",
     "text": [
      "/opt/anaconda3/envs/ssn/lib/python3.11/site-packages/keras/src/layers/rnn/rnn.py:200: UserWarning: Do not pass an `input_shape`/`input_dim` argument to a layer. When using Sequential models, prefer using an `Input(shape)` object as the first layer in the model instead.\n",
      "  super().__init__(**kwargs)\n"
     ]
    },
    {
     "name": "stdout",
     "output_type": "stream",
     "text": [
      "SSN RMSE: 7.6206, PICP: 0.2846, MPIW: 9.2537\n",
      "TSI RMSE: 0.0953, PICP: 0.0000, MPIW: 0.0000\n",
      "Running combination 36/105: Cycle 20, Seq Length 108, Horizon 6\n"
     ]
    },
    {
     "name": "stderr",
     "output_type": "stream",
     "text": [
      "/opt/anaconda3/envs/ssn/lib/python3.11/site-packages/keras/src/layers/rnn/rnn.py:200: UserWarning: Do not pass an `input_shape`/`input_dim` argument to a layer. When using Sequential models, prefer using an `Input(shape)` object as the first layer in the model instead.\n",
      "  super().__init__(**kwargs)\n"
     ]
    },
    {
     "name": "stdout",
     "output_type": "stream",
     "text": [
      "SSN RMSE: 6.7528, PICP: 0.5263, MPIW: 11.7603\n",
      "TSI RMSE: 0.1511, PICP: 0.0000, MPIW: 0.0000\n",
      "Running combination 37/105: Cycle 20, Seq Length 120, Horizon 1\n"
     ]
    },
    {
     "name": "stderr",
     "output_type": "stream",
     "text": [
      "/opt/anaconda3/envs/ssn/lib/python3.11/site-packages/keras/src/layers/rnn/rnn.py:200: UserWarning: Do not pass an `input_shape`/`input_dim` argument to a layer. When using Sequential models, prefer using an `Input(shape)` object as the first layer in the model instead.\n",
      "  super().__init__(**kwargs)\n"
     ]
    },
    {
     "name": "stdout",
     "output_type": "stream",
     "text": [
      "SSN RMSE: 3.7426, PICP: 0.2558, MPIW: 3.7024\n",
      "TSI RMSE: 0.0881, PICP: 0.0000, MPIW: 0.0000\n",
      "Running combination 38/105: Cycle 20, Seq Length 120, Horizon 3\n"
     ]
    },
    {
     "name": "stderr",
     "output_type": "stream",
     "text": [
      "/opt/anaconda3/envs/ssn/lib/python3.11/site-packages/keras/src/layers/rnn/rnn.py:200: UserWarning: Do not pass an `input_shape`/`input_dim` argument to a layer. When using Sequential models, prefer using an `Input(shape)` object as the first layer in the model instead.\n",
      "  super().__init__(**kwargs)\n"
     ]
    },
    {
     "name": "stdout",
     "output_type": "stream",
     "text": [
      "SSN RMSE: 6.0887, PICP: 0.1951, MPIW: 6.0905\n",
      "TSI RMSE: 0.1030, PICP: 0.0000, MPIW: 0.0000\n",
      "Running combination 39/105: Cycle 20, Seq Length 120, Horizon 6\n"
     ]
    },
    {
     "name": "stderr",
     "output_type": "stream",
     "text": [
      "/opt/anaconda3/envs/ssn/lib/python3.11/site-packages/keras/src/layers/rnn/rnn.py:200: UserWarning: Do not pass an `input_shape`/`input_dim` argument to a layer. When using Sequential models, prefer using an `Input(shape)` object as the first layer in the model instead.\n",
      "  super().__init__(**kwargs)\n"
     ]
    },
    {
     "name": "stdout",
     "output_type": "stream",
     "text": [
      "SSN RMSE: 8.2984, PICP: 0.5439, MPIW: 13.7014\n",
      "TSI RMSE: 0.1414, PICP: 0.0000, MPIW: 0.0000\n",
      "Running combination 40/105: Cycle 20, Seq Length 132, Horizon 1\n"
     ]
    },
    {
     "name": "stderr",
     "output_type": "stream",
     "text": [
      "/opt/anaconda3/envs/ssn/lib/python3.11/site-packages/keras/src/layers/rnn/rnn.py:200: UserWarning: Do not pass an `input_shape`/`input_dim` argument to a layer. When using Sequential models, prefer using an `Input(shape)` object as the first layer in the model instead.\n",
      "  super().__init__(**kwargs)\n"
     ]
    },
    {
     "name": "stdout",
     "output_type": "stream",
     "text": [
      "SSN RMSE: 3.9537, PICP: 0.5116, MPIW: 7.4770\n",
      "TSI RMSE: 0.1028, PICP: 0.0000, MPIW: 0.0000\n",
      "Running combination 41/105: Cycle 20, Seq Length 132, Horizon 3\n"
     ]
    },
    {
     "name": "stderr",
     "output_type": "stream",
     "text": [
      "/opt/anaconda3/envs/ssn/lib/python3.11/site-packages/keras/src/layers/rnn/rnn.py:200: UserWarning: Do not pass an `input_shape`/`input_dim` argument to a layer. When using Sequential models, prefer using an `Input(shape)` object as the first layer in the model instead.\n",
      "  super().__init__(**kwargs)\n"
     ]
    },
    {
     "name": "stdout",
     "output_type": "stream",
     "text": [
      "SSN RMSE: 6.3914, PICP: 0.1707, MPIW: 6.4718\n",
      "TSI RMSE: 0.1003, PICP: 0.0000, MPIW: 0.0000\n",
      "Running combination 42/105: Cycle 20, Seq Length 132, Horizon 6\n"
     ]
    },
    {
     "name": "stderr",
     "output_type": "stream",
     "text": [
      "/opt/anaconda3/envs/ssn/lib/python3.11/site-packages/keras/src/layers/rnn/rnn.py:200: UserWarning: Do not pass an `input_shape`/`input_dim` argument to a layer. When using Sequential models, prefer using an `Input(shape)` object as the first layer in the model instead.\n",
      "  super().__init__(**kwargs)\n"
     ]
    },
    {
     "name": "stdout",
     "output_type": "stream",
     "text": [
      "SSN RMSE: 10.5780, PICP: 0.3246, MPIW: 15.9943\n",
      "TSI RMSE: 0.1293, PICP: 0.0000, MPIW: 0.0000\n",
      "Running combination 43/105: Cycle 21, Seq Length 60, Horizon 1\n"
     ]
    },
    {
     "name": "stderr",
     "output_type": "stream",
     "text": [
      "/opt/anaconda3/envs/ssn/lib/python3.11/site-packages/keras/src/layers/rnn/rnn.py:200: UserWarning: Do not pass an `input_shape`/`input_dim` argument to a layer. When using Sequential models, prefer using an `Input(shape)` object as the first layer in the model instead.\n",
      "  super().__init__(**kwargs)\n"
     ]
    },
    {
     "name": "stdout",
     "output_type": "stream",
     "text": [
      "SSN RMSE: 3.8708, PICP: 0.3953, MPIW: 4.1508\n",
      "TSI RMSE: 0.0886, PICP: 0.0000, MPIW: 0.0000\n",
      "Running combination 44/105: Cycle 21, Seq Length 60, Horizon 3\n"
     ]
    },
    {
     "name": "stderr",
     "output_type": "stream",
     "text": [
      "/opt/anaconda3/envs/ssn/lib/python3.11/site-packages/keras/src/layers/rnn/rnn.py:200: UserWarning: Do not pass an `input_shape`/`input_dim` argument to a layer. When using Sequential models, prefer using an `Input(shape)` object as the first layer in the model instead.\n",
      "  super().__init__(**kwargs)\n"
     ]
    },
    {
     "name": "stdout",
     "output_type": "stream",
     "text": [
      "SSN RMSE: 6.1065, PICP: 0.3821, MPIW: 9.8331\n",
      "TSI RMSE: 0.1310, PICP: 0.0000, MPIW: 0.0000\n",
      "Running combination 45/105: Cycle 21, Seq Length 60, Horizon 6\n"
     ]
    },
    {
     "name": "stderr",
     "output_type": "stream",
     "text": [
      "/opt/anaconda3/envs/ssn/lib/python3.11/site-packages/keras/src/layers/rnn/rnn.py:200: UserWarning: Do not pass an `input_shape`/`input_dim` argument to a layer. When using Sequential models, prefer using an `Input(shape)` object as the first layer in the model instead.\n",
      "  super().__init__(**kwargs)\n"
     ]
    },
    {
     "name": "stdout",
     "output_type": "stream",
     "text": [
      "SSN RMSE: 6.6669, PICP: 0.6579, MPIW: 16.7923\n",
      "TSI RMSE: 0.1760, PICP: 0.0000, MPIW: 0.0000\n",
      "Running combination 46/105: Cycle 21, Seq Length 72, Horizon 1\n"
     ]
    },
    {
     "name": "stderr",
     "output_type": "stream",
     "text": [
      "/opt/anaconda3/envs/ssn/lib/python3.11/site-packages/keras/src/layers/rnn/rnn.py:200: UserWarning: Do not pass an `input_shape`/`input_dim` argument to a layer. When using Sequential models, prefer using an `Input(shape)` object as the first layer in the model instead.\n",
      "  super().__init__(**kwargs)\n"
     ]
    },
    {
     "name": "stdout",
     "output_type": "stream",
     "text": [
      "SSN RMSE: 4.6274, PICP: 0.1860, MPIW: 4.3204\n",
      "TSI RMSE: 0.0806, PICP: 0.0000, MPIW: 0.0000\n",
      "Running combination 47/105: Cycle 21, Seq Length 72, Horizon 3\n"
     ]
    },
    {
     "name": "stderr",
     "output_type": "stream",
     "text": [
      "/opt/anaconda3/envs/ssn/lib/python3.11/site-packages/keras/src/layers/rnn/rnn.py:200: UserWarning: Do not pass an `input_shape`/`input_dim` argument to a layer. When using Sequential models, prefer using an `Input(shape)` object as the first layer in the model instead.\n",
      "  super().__init__(**kwargs)\n"
     ]
    },
    {
     "name": "stdout",
     "output_type": "stream",
     "text": [
      "SSN RMSE: 5.2612, PICP: 0.4553, MPIW: 9.1514\n",
      "TSI RMSE: 0.1398, PICP: 0.0000, MPIW: 0.0000\n",
      "Running combination 48/105: Cycle 21, Seq Length 72, Horizon 6\n"
     ]
    },
    {
     "name": "stderr",
     "output_type": "stream",
     "text": [
      "/opt/anaconda3/envs/ssn/lib/python3.11/site-packages/keras/src/layers/rnn/rnn.py:200: UserWarning: Do not pass an `input_shape`/`input_dim` argument to a layer. When using Sequential models, prefer using an `Input(shape)` object as the first layer in the model instead.\n",
      "  super().__init__(**kwargs)\n"
     ]
    },
    {
     "name": "stdout",
     "output_type": "stream",
     "text": [
      "SSN RMSE: 5.6085, PICP: 0.6930, MPIW: 15.1916\n",
      "TSI RMSE: 0.1907, PICP: 0.0000, MPIW: 0.0000\n",
      "Running combination 49/105: Cycle 21, Seq Length 84, Horizon 1\n"
     ]
    },
    {
     "name": "stderr",
     "output_type": "stream",
     "text": [
      "/opt/anaconda3/envs/ssn/lib/python3.11/site-packages/keras/src/layers/rnn/rnn.py:200: UserWarning: Do not pass an `input_shape`/`input_dim` argument to a layer. When using Sequential models, prefer using an `Input(shape)` object as the first layer in the model instead.\n",
      "  super().__init__(**kwargs)\n"
     ]
    },
    {
     "name": "stdout",
     "output_type": "stream",
     "text": [
      "SSN RMSE: 4.0281, PICP: 0.7674, MPIW: 12.7035\n",
      "TSI RMSE: 0.0991, PICP: 0.0000, MPIW: 0.0000\n",
      "Running combination 50/105: Cycle 21, Seq Length 84, Horizon 3\n"
     ]
    },
    {
     "name": "stderr",
     "output_type": "stream",
     "text": [
      "/opt/anaconda3/envs/ssn/lib/python3.11/site-packages/keras/src/layers/rnn/rnn.py:200: UserWarning: Do not pass an `input_shape`/`input_dim` argument to a layer. When using Sequential models, prefer using an `Input(shape)` object as the first layer in the model instead.\n",
      "  super().__init__(**kwargs)\n"
     ]
    },
    {
     "name": "stdout",
     "output_type": "stream",
     "text": [
      "SSN RMSE: 5.4087, PICP: 0.5610, MPIW: 10.7669\n",
      "TSI RMSE: 0.1232, PICP: 0.0000, MPIW: 0.0000\n",
      "Running combination 51/105: Cycle 21, Seq Length 84, Horizon 6\n"
     ]
    },
    {
     "name": "stderr",
     "output_type": "stream",
     "text": [
      "/opt/anaconda3/envs/ssn/lib/python3.11/site-packages/keras/src/layers/rnn/rnn.py:200: UserWarning: Do not pass an `input_shape`/`input_dim` argument to a layer. When using Sequential models, prefer using an `Input(shape)` object as the first layer in the model instead.\n",
      "  super().__init__(**kwargs)\n"
     ]
    },
    {
     "name": "stdout",
     "output_type": "stream",
     "text": [
      "SSN RMSE: 6.7720, PICP: 0.4825, MPIW: 12.2545\n",
      "TSI RMSE: 0.1557, PICP: 0.0000, MPIW: 0.0000\n",
      "Running combination 52/105: Cycle 21, Seq Length 96, Horizon 1\n"
     ]
    },
    {
     "name": "stderr",
     "output_type": "stream",
     "text": [
      "/opt/anaconda3/envs/ssn/lib/python3.11/site-packages/keras/src/layers/rnn/rnn.py:200: UserWarning: Do not pass an `input_shape`/`input_dim` argument to a layer. When using Sequential models, prefer using an `Input(shape)` object as the first layer in the model instead.\n",
      "  super().__init__(**kwargs)\n"
     ]
    },
    {
     "name": "stdout",
     "output_type": "stream",
     "text": [
      "SSN RMSE: 3.7475, PICP: 0.4651, MPIW: 6.9605\n",
      "TSI RMSE: 0.0926, PICP: 0.0000, MPIW: 0.0000\n",
      "Running combination 53/105: Cycle 21, Seq Length 96, Horizon 3\n"
     ]
    },
    {
     "name": "stderr",
     "output_type": "stream",
     "text": [
      "/opt/anaconda3/envs/ssn/lib/python3.11/site-packages/keras/src/layers/rnn/rnn.py:200: UserWarning: Do not pass an `input_shape`/`input_dim` argument to a layer. When using Sequential models, prefer using an `Input(shape)` object as the first layer in the model instead.\n",
      "  super().__init__(**kwargs)\n"
     ]
    },
    {
     "name": "stdout",
     "output_type": "stream",
     "text": [
      "SSN RMSE: 5.8635, PICP: 0.4553, MPIW: 11.5083\n",
      "TSI RMSE: 0.1232, PICP: 0.0000, MPIW: 0.0000\n",
      "Running combination 54/105: Cycle 21, Seq Length 96, Horizon 6\n"
     ]
    },
    {
     "name": "stderr",
     "output_type": "stream",
     "text": [
      "/opt/anaconda3/envs/ssn/lib/python3.11/site-packages/keras/src/layers/rnn/rnn.py:200: UserWarning: Do not pass an `input_shape`/`input_dim` argument to a layer. When using Sequential models, prefer using an `Input(shape)` object as the first layer in the model instead.\n",
      "  super().__init__(**kwargs)\n"
     ]
    },
    {
     "name": "stdout",
     "output_type": "stream",
     "text": [
      "SSN RMSE: 6.9567, PICP: 0.5526, MPIW: 14.2879\n",
      "TSI RMSE: 0.1683, PICP: 0.0000, MPIW: 0.0000\n",
      "Running combination 55/105: Cycle 21, Seq Length 108, Horizon 1\n"
     ]
    },
    {
     "name": "stderr",
     "output_type": "stream",
     "text": [
      "/opt/anaconda3/envs/ssn/lib/python3.11/site-packages/keras/src/layers/rnn/rnn.py:200: UserWarning: Do not pass an `input_shape`/`input_dim` argument to a layer. When using Sequential models, prefer using an `Input(shape)` object as the first layer in the model instead.\n",
      "  super().__init__(**kwargs)\n"
     ]
    },
    {
     "name": "stdout",
     "output_type": "stream",
     "text": [
      "SSN RMSE: 4.0004, PICP: 0.5349, MPIW: 9.7535\n",
      "TSI RMSE: 0.0932, PICP: 0.0000, MPIW: 0.0000\n",
      "Running combination 56/105: Cycle 21, Seq Length 108, Horizon 3\n"
     ]
    },
    {
     "name": "stderr",
     "output_type": "stream",
     "text": [
      "/opt/anaconda3/envs/ssn/lib/python3.11/site-packages/keras/src/layers/rnn/rnn.py:200: UserWarning: Do not pass an `input_shape`/`input_dim` argument to a layer. When using Sequential models, prefer using an `Input(shape)` object as the first layer in the model instead.\n",
      "  super().__init__(**kwargs)\n"
     ]
    },
    {
     "name": "stdout",
     "output_type": "stream",
     "text": [
      "SSN RMSE: 5.1661, PICP: 0.4959, MPIW: 7.2934\n",
      "TSI RMSE: 0.1400, PICP: 0.0000, MPIW: 0.0000\n",
      "Running combination 57/105: Cycle 21, Seq Length 108, Horizon 6\n"
     ]
    },
    {
     "name": "stderr",
     "output_type": "stream",
     "text": [
      "/opt/anaconda3/envs/ssn/lib/python3.11/site-packages/keras/src/layers/rnn/rnn.py:200: UserWarning: Do not pass an `input_shape`/`input_dim` argument to a layer. When using Sequential models, prefer using an `Input(shape)` object as the first layer in the model instead.\n",
      "  super().__init__(**kwargs)\n"
     ]
    },
    {
     "name": "stdout",
     "output_type": "stream",
     "text": [
      "SSN RMSE: 7.5853, PICP: 0.6184, MPIW: 17.2810\n",
      "TSI RMSE: 0.1969, PICP: 0.0000, MPIW: 0.0000\n",
      "Running combination 58/105: Cycle 21, Seq Length 120, Horizon 1\n"
     ]
    },
    {
     "name": "stderr",
     "output_type": "stream",
     "text": [
      "/opt/anaconda3/envs/ssn/lib/python3.11/site-packages/keras/src/layers/rnn/rnn.py:200: UserWarning: Do not pass an `input_shape`/`input_dim` argument to a layer. When using Sequential models, prefer using an `Input(shape)` object as the first layer in the model instead.\n",
      "  super().__init__(**kwargs)\n"
     ]
    },
    {
     "name": "stdout",
     "output_type": "stream",
     "text": [
      "SSN RMSE: 3.8249, PICP: 0.4419, MPIW: 6.1909\n",
      "TSI RMSE: 0.1006, PICP: 0.0000, MPIW: 0.0000\n",
      "Running combination 59/105: Cycle 21, Seq Length 120, Horizon 3\n"
     ]
    },
    {
     "name": "stderr",
     "output_type": "stream",
     "text": [
      "/opt/anaconda3/envs/ssn/lib/python3.11/site-packages/keras/src/layers/rnn/rnn.py:200: UserWarning: Do not pass an `input_shape`/`input_dim` argument to a layer. When using Sequential models, prefer using an `Input(shape)` object as the first layer in the model instead.\n",
      "  super().__init__(**kwargs)\n"
     ]
    },
    {
     "name": "stdout",
     "output_type": "stream",
     "text": [
      "SSN RMSE: 6.7278, PICP: 0.4553, MPIW: 11.9102\n",
      "TSI RMSE: 0.1181, PICP: 0.0000, MPIW: 0.0000\n",
      "Running combination 60/105: Cycle 21, Seq Length 120, Horizon 6\n"
     ]
    },
    {
     "name": "stderr",
     "output_type": "stream",
     "text": [
      "/opt/anaconda3/envs/ssn/lib/python3.11/site-packages/keras/src/layers/rnn/rnn.py:200: UserWarning: Do not pass an `input_shape`/`input_dim` argument to a layer. When using Sequential models, prefer using an `Input(shape)` object as the first layer in the model instead.\n",
      "  super().__init__(**kwargs)\n"
     ]
    },
    {
     "name": "stdout",
     "output_type": "stream",
     "text": [
      "SSN RMSE: 9.0375, PICP: 0.5000, MPIW: 16.0071\n",
      "TSI RMSE: 0.1657, PICP: 0.0000, MPIW: 0.0000\n",
      "Running combination 61/105: Cycle 21, Seq Length 132, Horizon 1\n"
     ]
    },
    {
     "name": "stderr",
     "output_type": "stream",
     "text": [
      "/opt/anaconda3/envs/ssn/lib/python3.11/site-packages/keras/src/layers/rnn/rnn.py:200: UserWarning: Do not pass an `input_shape`/`input_dim` argument to a layer. When using Sequential models, prefer using an `Input(shape)` object as the first layer in the model instead.\n",
      "  super().__init__(**kwargs)\n"
     ]
    },
    {
     "name": "stdout",
     "output_type": "stream",
     "text": [
      "SSN RMSE: 3.9817, PICP: 0.3953, MPIW: 6.4699\n",
      "TSI RMSE: 0.0983, PICP: 0.0000, MPIW: 0.0000\n",
      "Running combination 62/105: Cycle 21, Seq Length 132, Horizon 3\n"
     ]
    },
    {
     "name": "stderr",
     "output_type": "stream",
     "text": [
      "/opt/anaconda3/envs/ssn/lib/python3.11/site-packages/keras/src/layers/rnn/rnn.py:200: UserWarning: Do not pass an `input_shape`/`input_dim` argument to a layer. When using Sequential models, prefer using an `Input(shape)` object as the first layer in the model instead.\n",
      "  super().__init__(**kwargs)\n"
     ]
    },
    {
     "name": "stdout",
     "output_type": "stream",
     "text": [
      "SSN RMSE: 5.2933, PICP: 0.5528, MPIW: 11.7658\n",
      "TSI RMSE: 0.1338, PICP: 0.0000, MPIW: 0.0000\n",
      "Running combination 63/105: Cycle 21, Seq Length 132, Horizon 6\n"
     ]
    },
    {
     "name": "stderr",
     "output_type": "stream",
     "text": [
      "/opt/anaconda3/envs/ssn/lib/python3.11/site-packages/keras/src/layers/rnn/rnn.py:200: UserWarning: Do not pass an `input_shape`/`input_dim` argument to a layer. When using Sequential models, prefer using an `Input(shape)` object as the first layer in the model instead.\n",
      "  super().__init__(**kwargs)\n"
     ]
    },
    {
     "name": "stdout",
     "output_type": "stream",
     "text": [
      "SSN RMSE: 6.6776, PICP: 0.6447, MPIW: 16.6541\n",
      "TSI RMSE: 0.1719, PICP: 0.0000, MPIW: 0.0000\n",
      "Running combination 64/105: Cycle 22, Seq Length 60, Horizon 1\n"
     ]
    },
    {
     "name": "stderr",
     "output_type": "stream",
     "text": [
      "/opt/anaconda3/envs/ssn/lib/python3.11/site-packages/keras/src/layers/rnn/rnn.py:200: UserWarning: Do not pass an `input_shape`/`input_dim` argument to a layer. When using Sequential models, prefer using an `Input(shape)` object as the first layer in the model instead.\n",
      "  super().__init__(**kwargs)\n"
     ]
    },
    {
     "name": "stdout",
     "output_type": "stream",
     "text": [
      "SSN RMSE: 5.0856, PICP: 0.3488, MPIW: 5.2411\n",
      "TSI RMSE: 0.1079, PICP: 0.0000, MPIW: 0.0000\n",
      "Running combination 65/105: Cycle 22, Seq Length 60, Horizon 3\n"
     ]
    },
    {
     "name": "stderr",
     "output_type": "stream",
     "text": [
      "/opt/anaconda3/envs/ssn/lib/python3.11/site-packages/keras/src/layers/rnn/rnn.py:200: UserWarning: Do not pass an `input_shape`/`input_dim` argument to a layer. When using Sequential models, prefer using an `Input(shape)` object as the first layer in the model instead.\n",
      "  super().__init__(**kwargs)\n"
     ]
    },
    {
     "name": "stdout",
     "output_type": "stream",
     "text": [
      "SSN RMSE: 5.8658, PICP: 0.4715, MPIW: 9.0491\n",
      "TSI RMSE: 0.1352, PICP: 0.0000, MPIW: 0.0000\n",
      "Running combination 66/105: Cycle 22, Seq Length 60, Horizon 6\n"
     ]
    },
    {
     "name": "stderr",
     "output_type": "stream",
     "text": [
      "/opt/anaconda3/envs/ssn/lib/python3.11/site-packages/keras/src/layers/rnn/rnn.py:200: UserWarning: Do not pass an `input_shape`/`input_dim` argument to a layer. When using Sequential models, prefer using an `Input(shape)` object as the first layer in the model instead.\n",
      "  super().__init__(**kwargs)\n"
     ]
    },
    {
     "name": "stdout",
     "output_type": "stream",
     "text": [
      "SSN RMSE: 8.9917, PICP: 0.4123, MPIW: 13.2219\n",
      "TSI RMSE: 0.1725, PICP: 0.0000, MPIW: 0.0000\n",
      "Running combination 67/105: Cycle 22, Seq Length 72, Horizon 1\n"
     ]
    },
    {
     "name": "stderr",
     "output_type": "stream",
     "text": [
      "/opt/anaconda3/envs/ssn/lib/python3.11/site-packages/keras/src/layers/rnn/rnn.py:200: UserWarning: Do not pass an `input_shape`/`input_dim` argument to a layer. When using Sequential models, prefer using an `Input(shape)` object as the first layer in the model instead.\n",
      "  super().__init__(**kwargs)\n"
     ]
    },
    {
     "name": "stdout",
     "output_type": "stream",
     "text": [
      "SSN RMSE: 4.8340, PICP: 0.6047, MPIW: 10.3311\n",
      "TSI RMSE: 0.1238, PICP: 0.0000, MPIW: 0.0000\n",
      "Running combination 68/105: Cycle 22, Seq Length 72, Horizon 3\n"
     ]
    },
    {
     "name": "stderr",
     "output_type": "stream",
     "text": [
      "/opt/anaconda3/envs/ssn/lib/python3.11/site-packages/keras/src/layers/rnn/rnn.py:200: UserWarning: Do not pass an `input_shape`/`input_dim` argument to a layer. When using Sequential models, prefer using an `Input(shape)` object as the first layer in the model instead.\n",
      "  super().__init__(**kwargs)\n"
     ]
    },
    {
     "name": "stdout",
     "output_type": "stream",
     "text": [
      "SSN RMSE: 5.8073, PICP: 0.6748, MPIW: 15.4573\n",
      "TSI RMSE: 0.1555, PICP: 0.0000, MPIW: 0.0000\n",
      "Running combination 69/105: Cycle 22, Seq Length 72, Horizon 6\n"
     ]
    },
    {
     "name": "stderr",
     "output_type": "stream",
     "text": [
      "/opt/anaconda3/envs/ssn/lib/python3.11/site-packages/keras/src/layers/rnn/rnn.py:200: UserWarning: Do not pass an `input_shape`/`input_dim` argument to a layer. When using Sequential models, prefer using an `Input(shape)` object as the first layer in the model instead.\n",
      "  super().__init__(**kwargs)\n"
     ]
    },
    {
     "name": "stdout",
     "output_type": "stream",
     "text": [
      "SSN RMSE: 7.2914, PICP: 0.7412, MPIW: 20.5629\n",
      "TSI RMSE: 0.1826, PICP: 0.0000, MPIW: 0.0000\n",
      "Running combination 70/105: Cycle 22, Seq Length 84, Horizon 1\n"
     ]
    },
    {
     "name": "stderr",
     "output_type": "stream",
     "text": [
      "/opt/anaconda3/envs/ssn/lib/python3.11/site-packages/keras/src/layers/rnn/rnn.py:200: UserWarning: Do not pass an `input_shape`/`input_dim` argument to a layer. When using Sequential models, prefer using an `Input(shape)` object as the first layer in the model instead.\n",
      "  super().__init__(**kwargs)\n"
     ]
    },
    {
     "name": "stdout",
     "output_type": "stream",
     "text": [
      "SSN RMSE: 4.7747, PICP: 0.4651, MPIW: 7.5351\n",
      "TSI RMSE: 0.1402, PICP: 0.0000, MPIW: 0.0000\n",
      "Running combination 71/105: Cycle 22, Seq Length 84, Horizon 3\n"
     ]
    },
    {
     "name": "stderr",
     "output_type": "stream",
     "text": [
      "/opt/anaconda3/envs/ssn/lib/python3.11/site-packages/keras/src/layers/rnn/rnn.py:200: UserWarning: Do not pass an `input_shape`/`input_dim` argument to a layer. When using Sequential models, prefer using an `Input(shape)` object as the first layer in the model instead.\n",
      "  super().__init__(**kwargs)\n"
     ]
    },
    {
     "name": "stdout",
     "output_type": "stream",
     "text": [
      "SSN RMSE: 6.4131, PICP: 0.4797, MPIW: 10.2268\n",
      "TSI RMSE: 0.1582, PICP: 0.0000, MPIW: 0.0000\n",
      "Running combination 72/105: Cycle 22, Seq Length 84, Horizon 6\n"
     ]
    },
    {
     "name": "stderr",
     "output_type": "stream",
     "text": [
      "/opt/anaconda3/envs/ssn/lib/python3.11/site-packages/keras/src/layers/rnn/rnn.py:200: UserWarning: Do not pass an `input_shape`/`input_dim` argument to a layer. When using Sequential models, prefer using an `Input(shape)` object as the first layer in the model instead.\n",
      "  super().__init__(**kwargs)\n"
     ]
    },
    {
     "name": "stdout",
     "output_type": "stream",
     "text": [
      "SSN RMSE: 7.7822, PICP: 0.2719, MPIW: 9.5104\n",
      "TSI RMSE: 0.1739, PICP: 0.0000, MPIW: 0.0000\n",
      "Running combination 73/105: Cycle 22, Seq Length 96, Horizon 1\n"
     ]
    },
    {
     "name": "stderr",
     "output_type": "stream",
     "text": [
      "/opt/anaconda3/envs/ssn/lib/python3.11/site-packages/keras/src/layers/rnn/rnn.py:200: UserWarning: Do not pass an `input_shape`/`input_dim` argument to a layer. When using Sequential models, prefer using an `Input(shape)` object as the first layer in the model instead.\n",
      "  super().__init__(**kwargs)\n"
     ]
    },
    {
     "name": "stdout",
     "output_type": "stream",
     "text": [
      "SSN RMSE: 4.4402, PICP: 0.5814, MPIW: 9.4472\n",
      "TSI RMSE: 0.1528, PICP: 0.0000, MPIW: 0.0000\n",
      "Running combination 74/105: Cycle 22, Seq Length 96, Horizon 3\n"
     ]
    },
    {
     "name": "stderr",
     "output_type": "stream",
     "text": [
      "/opt/anaconda3/envs/ssn/lib/python3.11/site-packages/keras/src/layers/rnn/rnn.py:200: UserWarning: Do not pass an `input_shape`/`input_dim` argument to a layer. When using Sequential models, prefer using an `Input(shape)` object as the first layer in the model instead.\n",
      "  super().__init__(**kwargs)\n"
     ]
    },
    {
     "name": "stdout",
     "output_type": "stream",
     "text": [
      "SSN RMSE: 5.1581, PICP: 0.3984, MPIW: 7.5419\n",
      "TSI RMSE: 0.1756, PICP: 0.0000, MPIW: 0.0000\n",
      "Running combination 75/105: Cycle 22, Seq Length 96, Horizon 6\n"
     ]
    },
    {
     "name": "stderr",
     "output_type": "stream",
     "text": [
      "/opt/anaconda3/envs/ssn/lib/python3.11/site-packages/keras/src/layers/rnn/rnn.py:200: UserWarning: Do not pass an `input_shape`/`input_dim` argument to a layer. When using Sequential models, prefer using an `Input(shape)` object as the first layer in the model instead.\n",
      "  super().__init__(**kwargs)\n"
     ]
    },
    {
     "name": "stdout",
     "output_type": "stream",
     "text": [
      "SSN RMSE: 7.6950, PICP: 0.1623, MPIW: 6.0200\n",
      "TSI RMSE: 0.2000, PICP: 0.0000, MPIW: 0.0000\n",
      "Running combination 76/105: Cycle 22, Seq Length 108, Horizon 1\n"
     ]
    },
    {
     "name": "stderr",
     "output_type": "stream",
     "text": [
      "/opt/anaconda3/envs/ssn/lib/python3.11/site-packages/keras/src/layers/rnn/rnn.py:200: UserWarning: Do not pass an `input_shape`/`input_dim` argument to a layer. When using Sequential models, prefer using an `Input(shape)` object as the first layer in the model instead.\n",
      "  super().__init__(**kwargs)\n"
     ]
    },
    {
     "name": "stdout",
     "output_type": "stream",
     "text": [
      "SSN RMSE: 4.7027, PICP: 0.5116, MPIW: 7.7325\n",
      "TSI RMSE: 0.1528, PICP: 0.0000, MPIW: 0.0000\n",
      "Running combination 77/105: Cycle 22, Seq Length 108, Horizon 3\n"
     ]
    },
    {
     "name": "stderr",
     "output_type": "stream",
     "text": [
      "/opt/anaconda3/envs/ssn/lib/python3.11/site-packages/keras/src/layers/rnn/rnn.py:200: UserWarning: Do not pass an `input_shape`/`input_dim` argument to a layer. When using Sequential models, prefer using an `Input(shape)` object as the first layer in the model instead.\n",
      "  super().__init__(**kwargs)\n"
     ]
    },
    {
     "name": "stdout",
     "output_type": "stream",
     "text": [
      "SSN RMSE: 5.6065, PICP: 0.6098, MPIW: 13.6242\n",
      "TSI RMSE: 0.1707, PICP: 0.0000, MPIW: 0.0000\n",
      "Running combination 78/105: Cycle 22, Seq Length 108, Horizon 6\n"
     ]
    },
    {
     "name": "stderr",
     "output_type": "stream",
     "text": [
      "/opt/anaconda3/envs/ssn/lib/python3.11/site-packages/keras/src/layers/rnn/rnn.py:200: UserWarning: Do not pass an `input_shape`/`input_dim` argument to a layer. When using Sequential models, prefer using an `Input(shape)` object as the first layer in the model instead.\n",
      "  super().__init__(**kwargs)\n"
     ]
    },
    {
     "name": "stdout",
     "output_type": "stream",
     "text": [
      "SSN RMSE: 6.9819, PICP: 0.5307, MPIW: 14.5865\n",
      "TSI RMSE: 0.2110, PICP: 0.0000, MPIW: 0.0000\n",
      "Running combination 79/105: Cycle 22, Seq Length 120, Horizon 1\n"
     ]
    },
    {
     "name": "stderr",
     "output_type": "stream",
     "text": [
      "/opt/anaconda3/envs/ssn/lib/python3.11/site-packages/keras/src/layers/rnn/rnn.py:200: UserWarning: Do not pass an `input_shape`/`input_dim` argument to a layer. When using Sequential models, prefer using an `Input(shape)` object as the first layer in the model instead.\n",
      "  super().__init__(**kwargs)\n"
     ]
    },
    {
     "name": "stdout",
     "output_type": "stream",
     "text": [
      "SSN RMSE: 4.4688, PICP: 0.6047, MPIW: 8.4582\n",
      "TSI RMSE: 0.1672, PICP: 0.0000, MPIW: 0.0000\n",
      "Running combination 80/105: Cycle 22, Seq Length 120, Horizon 3\n"
     ]
    },
    {
     "name": "stderr",
     "output_type": "stream",
     "text": [
      "/opt/anaconda3/envs/ssn/lib/python3.11/site-packages/keras/src/layers/rnn/rnn.py:200: UserWarning: Do not pass an `input_shape`/`input_dim` argument to a layer. When using Sequential models, prefer using an `Input(shape)` object as the first layer in the model instead.\n",
      "  super().__init__(**kwargs)\n"
     ]
    },
    {
     "name": "stdout",
     "output_type": "stream",
     "text": [
      "SSN RMSE: 6.3574, PICP: 0.5610, MPIW: 12.1076\n",
      "TSI RMSE: 0.1973, PICP: 0.0000, MPIW: 0.0000\n",
      "Running combination 81/105: Cycle 22, Seq Length 120, Horizon 6\n"
     ]
    },
    {
     "name": "stderr",
     "output_type": "stream",
     "text": [
      "/opt/anaconda3/envs/ssn/lib/python3.11/site-packages/keras/src/layers/rnn/rnn.py:200: UserWarning: Do not pass an `input_shape`/`input_dim` argument to a layer. When using Sequential models, prefer using an `Input(shape)` object as the first layer in the model instead.\n",
      "  super().__init__(**kwargs)\n"
     ]
    },
    {
     "name": "stdout",
     "output_type": "stream",
     "text": [
      "SSN RMSE: 6.7642, PICP: 0.3640, MPIW: 8.3317\n",
      "TSI RMSE: 0.2219, PICP: 0.0000, MPIW: 0.0000\n",
      "Running combination 82/105: Cycle 22, Seq Length 132, Horizon 1\n"
     ]
    },
    {
     "name": "stderr",
     "output_type": "stream",
     "text": [
      "/opt/anaconda3/envs/ssn/lib/python3.11/site-packages/keras/src/layers/rnn/rnn.py:200: UserWarning: Do not pass an `input_shape`/`input_dim` argument to a layer. When using Sequential models, prefer using an `Input(shape)` object as the first layer in the model instead.\n",
      "  super().__init__(**kwargs)\n"
     ]
    },
    {
     "name": "stdout",
     "output_type": "stream",
     "text": [
      "SSN RMSE: 5.4877, PICP: 0.5581, MPIW: 10.3296\n",
      "TSI RMSE: 0.1658, PICP: 0.0000, MPIW: 0.0000\n",
      "Running combination 83/105: Cycle 22, Seq Length 132, Horizon 3\n"
     ]
    },
    {
     "name": "stderr",
     "output_type": "stream",
     "text": [
      "/opt/anaconda3/envs/ssn/lib/python3.11/site-packages/keras/src/layers/rnn/rnn.py:200: UserWarning: Do not pass an `input_shape`/`input_dim` argument to a layer. When using Sequential models, prefer using an `Input(shape)` object as the first layer in the model instead.\n",
      "  super().__init__(**kwargs)\n"
     ]
    },
    {
     "name": "stdout",
     "output_type": "stream",
     "text": [
      "SSN RMSE: 7.0063, PICP: 0.4553, MPIW: 11.7254\n",
      "TSI RMSE: 0.1685, PICP: 0.0000, MPIW: 0.0000\n",
      "Running combination 84/105: Cycle 22, Seq Length 132, Horizon 6\n"
     ]
    },
    {
     "name": "stderr",
     "output_type": "stream",
     "text": [
      "/opt/anaconda3/envs/ssn/lib/python3.11/site-packages/keras/src/layers/rnn/rnn.py:200: UserWarning: Do not pass an `input_shape`/`input_dim` argument to a layer. When using Sequential models, prefer using an `Input(shape)` object as the first layer in the model instead.\n",
      "  super().__init__(**kwargs)\n"
     ]
    },
    {
     "name": "stdout",
     "output_type": "stream",
     "text": [
      "SSN RMSE: 6.0553, PICP: 0.5658, MPIW: 11.7534\n",
      "TSI RMSE: 0.2205, PICP: 0.0000, MPIW: 0.0000\n",
      "Running combination 85/105: Cycle 23, Seq Length 60, Horizon 1\n"
     ]
    },
    {
     "name": "stderr",
     "output_type": "stream",
     "text": [
      "/opt/anaconda3/envs/ssn/lib/python3.11/site-packages/keras/src/layers/rnn/rnn.py:200: UserWarning: Do not pass an `input_shape`/`input_dim` argument to a layer. When using Sequential models, prefer using an `Input(shape)` object as the first layer in the model instead.\n",
      "  super().__init__(**kwargs)\n"
     ]
    },
    {
     "name": "stdout",
     "output_type": "stream",
     "text": [
      "SSN RMSE: 9.1358, PICP: 0.2326, MPIW: 10.2861\n",
      "TSI RMSE: 0.1856, PICP: 0.0000, MPIW: 0.0000\n",
      "Running combination 86/105: Cycle 23, Seq Length 60, Horizon 3\n"
     ]
    },
    {
     "name": "stderr",
     "output_type": "stream",
     "text": [
      "/opt/anaconda3/envs/ssn/lib/python3.11/site-packages/keras/src/layers/rnn/rnn.py:200: UserWarning: Do not pass an `input_shape`/`input_dim` argument to a layer. When using Sequential models, prefer using an `Input(shape)` object as the first layer in the model instead.\n",
      "  super().__init__(**kwargs)\n"
     ]
    },
    {
     "name": "stdout",
     "output_type": "stream",
     "text": [
      "SSN RMSE: 9.5632, PICP: 0.6667, MPIW: 21.4759\n",
      "TSI RMSE: 0.1996, PICP: 0.0000, MPIW: 0.0000\n",
      "Running combination 87/105: Cycle 23, Seq Length 60, Horizon 6\n"
     ]
    },
    {
     "name": "stderr",
     "output_type": "stream",
     "text": [
      "/opt/anaconda3/envs/ssn/lib/python3.11/site-packages/keras/src/layers/rnn/rnn.py:200: UserWarning: Do not pass an `input_shape`/`input_dim` argument to a layer. When using Sequential models, prefer using an `Input(shape)` object as the first layer in the model instead.\n",
      "  super().__init__(**kwargs)\n"
     ]
    },
    {
     "name": "stdout",
     "output_type": "stream",
     "text": [
      "SSN RMSE: 14.1441, PICP: 0.3421, MPIW: 18.6927\n",
      "TSI RMSE: 0.2622, PICP: 0.0000, MPIW: 0.0000\n",
      "Running combination 88/105: Cycle 23, Seq Length 72, Horizon 1\n"
     ]
    },
    {
     "name": "stderr",
     "output_type": "stream",
     "text": [
      "/opt/anaconda3/envs/ssn/lib/python3.11/site-packages/keras/src/layers/rnn/rnn.py:200: UserWarning: Do not pass an `input_shape`/`input_dim` argument to a layer. When using Sequential models, prefer using an `Input(shape)` object as the first layer in the model instead.\n",
      "  super().__init__(**kwargs)\n"
     ]
    },
    {
     "name": "stdout",
     "output_type": "stream",
     "text": [
      "SSN RMSE: 9.0610, PICP: 0.1628, MPIW: 9.4246\n",
      "TSI RMSE: 0.1795, PICP: 0.0000, MPIW: 0.0000\n",
      "Running combination 89/105: Cycle 23, Seq Length 72, Horizon 3\n"
     ]
    },
    {
     "name": "stderr",
     "output_type": "stream",
     "text": [
      "/opt/anaconda3/envs/ssn/lib/python3.11/site-packages/keras/src/layers/rnn/rnn.py:200: UserWarning: Do not pass an `input_shape`/`input_dim` argument to a layer. When using Sequential models, prefer using an `Input(shape)` object as the first layer in the model instead.\n",
      "  super().__init__(**kwargs)\n"
     ]
    },
    {
     "name": "stdout",
     "output_type": "stream",
     "text": [
      "SSN RMSE: 10.6156, PICP: 0.2927, MPIW: 17.1144\n",
      "TSI RMSE: 0.2252, PICP: 0.0000, MPIW: 0.0000\n",
      "Running combination 90/105: Cycle 23, Seq Length 72, Horizon 6\n"
     ]
    },
    {
     "name": "stderr",
     "output_type": "stream",
     "text": [
      "/opt/anaconda3/envs/ssn/lib/python3.11/site-packages/keras/src/layers/rnn/rnn.py:200: UserWarning: Do not pass an `input_shape`/`input_dim` argument to a layer. When using Sequential models, prefer using an `Input(shape)` object as the first layer in the model instead.\n",
      "  super().__init__(**kwargs)\n"
     ]
    },
    {
     "name": "stdout",
     "output_type": "stream",
     "text": [
      "SSN RMSE: 12.9289, PICP: 0.5482, MPIW: 22.7791\n",
      "TSI RMSE: 0.2368, PICP: 0.0000, MPIW: 0.0000\n",
      "Running combination 91/105: Cycle 23, Seq Length 84, Horizon 1\n"
     ]
    },
    {
     "name": "stderr",
     "output_type": "stream",
     "text": [
      "/opt/anaconda3/envs/ssn/lib/python3.11/site-packages/keras/src/layers/rnn/rnn.py:200: UserWarning: Do not pass an `input_shape`/`input_dim` argument to a layer. When using Sequential models, prefer using an `Input(shape)` object as the first layer in the model instead.\n",
      "  super().__init__(**kwargs)\n"
     ]
    },
    {
     "name": "stdout",
     "output_type": "stream",
     "text": [
      "SSN RMSE: 9.7027, PICP: 0.1628, MPIW: 10.5421\n",
      "TSI RMSE: 0.1783, PICP: 0.0000, MPIW: 0.0000\n",
      "Running combination 92/105: Cycle 23, Seq Length 84, Horizon 3\n"
     ]
    },
    {
     "name": "stderr",
     "output_type": "stream",
     "text": [
      "/opt/anaconda3/envs/ssn/lib/python3.11/site-packages/keras/src/layers/rnn/rnn.py:200: UserWarning: Do not pass an `input_shape`/`input_dim` argument to a layer. When using Sequential models, prefer using an `Input(shape)` object as the first layer in the model instead.\n",
      "  super().__init__(**kwargs)\n"
     ]
    },
    {
     "name": "stdout",
     "output_type": "stream",
     "text": [
      "SSN RMSE: 11.7124, PICP: 0.2927, MPIW: 13.3778\n",
      "TSI RMSE: 0.2173, PICP: 0.0000, MPIW: 0.0000\n",
      "Running combination 93/105: Cycle 23, Seq Length 84, Horizon 6\n"
     ]
    },
    {
     "name": "stderr",
     "output_type": "stream",
     "text": [
      "/opt/anaconda3/envs/ssn/lib/python3.11/site-packages/keras/src/layers/rnn/rnn.py:200: UserWarning: Do not pass an `input_shape`/`input_dim` argument to a layer. When using Sequential models, prefer using an `Input(shape)` object as the first layer in the model instead.\n",
      "  super().__init__(**kwargs)\n"
     ]
    },
    {
     "name": "stdout",
     "output_type": "stream",
     "text": [
      "SSN RMSE: 10.5056, PICP: 0.2982, MPIW: 12.5202\n",
      "TSI RMSE: 0.2388, PICP: 0.0000, MPIW: 0.0000\n",
      "Running combination 94/105: Cycle 23, Seq Length 96, Horizon 1\n"
     ]
    },
    {
     "name": "stderr",
     "output_type": "stream",
     "text": [
      "/opt/anaconda3/envs/ssn/lib/python3.11/site-packages/keras/src/layers/rnn/rnn.py:200: UserWarning: Do not pass an `input_shape`/`input_dim` argument to a layer. When using Sequential models, prefer using an `Input(shape)` object as the first layer in the model instead.\n",
      "  super().__init__(**kwargs)\n"
     ]
    },
    {
     "name": "stdout",
     "output_type": "stream",
     "text": [
      "SSN RMSE: 9.3542, PICP: 0.1860, MPIW: 7.8967\n",
      "TSI RMSE: 0.1699, PICP: 0.0000, MPIW: 0.0000\n",
      "Running combination 95/105: Cycle 23, Seq Length 96, Horizon 3\n"
     ]
    },
    {
     "name": "stderr",
     "output_type": "stream",
     "text": [
      "/opt/anaconda3/envs/ssn/lib/python3.11/site-packages/keras/src/layers/rnn/rnn.py:200: UserWarning: Do not pass an `input_shape`/`input_dim` argument to a layer. When using Sequential models, prefer using an `Input(shape)` object as the first layer in the model instead.\n",
      "  super().__init__(**kwargs)\n"
     ]
    },
    {
     "name": "stdout",
     "output_type": "stream",
     "text": [
      "SSN RMSE: 7.1525, PICP: 0.4146, MPIW: 9.6459\n",
      "TSI RMSE: 0.1936, PICP: 0.0000, MPIW: 0.0000\n",
      "Running combination 96/105: Cycle 23, Seq Length 96, Horizon 6\n"
     ]
    },
    {
     "name": "stderr",
     "output_type": "stream",
     "text": [
      "/opt/anaconda3/envs/ssn/lib/python3.11/site-packages/keras/src/layers/rnn/rnn.py:200: UserWarning: Do not pass an `input_shape`/`input_dim` argument to a layer. When using Sequential models, prefer using an `Input(shape)` object as the first layer in the model instead.\n",
      "  super().__init__(**kwargs)\n"
     ]
    },
    {
     "name": "stdout",
     "output_type": "stream",
     "text": [
      "SSN RMSE: 8.9351, PICP: 0.5395, MPIW: 16.7815\n",
      "TSI RMSE: 0.2338, PICP: 0.0000, MPIW: 0.0000\n",
      "Running combination 97/105: Cycle 23, Seq Length 108, Horizon 1\n"
     ]
    },
    {
     "name": "stderr",
     "output_type": "stream",
     "text": [
      "/opt/anaconda3/envs/ssn/lib/python3.11/site-packages/keras/src/layers/rnn/rnn.py:200: UserWarning: Do not pass an `input_shape`/`input_dim` argument to a layer. When using Sequential models, prefer using an `Input(shape)` object as the first layer in the model instead.\n",
      "  super().__init__(**kwargs)\n"
     ]
    },
    {
     "name": "stdout",
     "output_type": "stream",
     "text": [
      "SSN RMSE: 8.6118, PICP: 0.3721, MPIW: 12.1489\n",
      "TSI RMSE: 0.1580, PICP: 0.0000, MPIW: 0.0000\n",
      "Running combination 98/105: Cycle 23, Seq Length 108, Horizon 3\n"
     ]
    },
    {
     "name": "stderr",
     "output_type": "stream",
     "text": [
      "/opt/anaconda3/envs/ssn/lib/python3.11/site-packages/keras/src/layers/rnn/rnn.py:200: UserWarning: Do not pass an `input_shape`/`input_dim` argument to a layer. When using Sequential models, prefer using an `Input(shape)` object as the first layer in the model instead.\n",
      "  super().__init__(**kwargs)\n"
     ]
    },
    {
     "name": "stdout",
     "output_type": "stream",
     "text": [
      "SSN RMSE: 9.6728, PICP: 0.3171, MPIW: 12.9194\n",
      "TSI RMSE: 0.1998, PICP: 0.0000, MPIW: 0.0000\n",
      "Running combination 99/105: Cycle 23, Seq Length 108, Horizon 6\n"
     ]
    },
    {
     "name": "stderr",
     "output_type": "stream",
     "text": [
      "/opt/anaconda3/envs/ssn/lib/python3.11/site-packages/keras/src/layers/rnn/rnn.py:200: UserWarning: Do not pass an `input_shape`/`input_dim` argument to a layer. When using Sequential models, prefer using an `Input(shape)` object as the first layer in the model instead.\n",
      "  super().__init__(**kwargs)\n"
     ]
    },
    {
     "name": "stdout",
     "output_type": "stream",
     "text": [
      "SSN RMSE: 10.9226, PICP: 0.4386, MPIW: 17.4340\n",
      "TSI RMSE: 0.2267, PICP: 0.0000, MPIW: 0.0000\n",
      "Running combination 100/105: Cycle 23, Seq Length 120, Horizon 1\n"
     ]
    },
    {
     "name": "stderr",
     "output_type": "stream",
     "text": [
      "/opt/anaconda3/envs/ssn/lib/python3.11/site-packages/keras/src/layers/rnn/rnn.py:200: UserWarning: Do not pass an `input_shape`/`input_dim` argument to a layer. When using Sequential models, prefer using an `Input(shape)` object as the first layer in the model instead.\n",
      "  super().__init__(**kwargs)\n"
     ]
    },
    {
     "name": "stdout",
     "output_type": "stream",
     "text": [
      "SSN RMSE: 6.2434, PICP: 0.3488, MPIW: 8.4595\n",
      "TSI RMSE: 0.1509, PICP: 0.0000, MPIW: 0.0000\n",
      "Running combination 101/105: Cycle 23, Seq Length 120, Horizon 3\n"
     ]
    },
    {
     "name": "stderr",
     "output_type": "stream",
     "text": [
      "/opt/anaconda3/envs/ssn/lib/python3.11/site-packages/keras/src/layers/rnn/rnn.py:200: UserWarning: Do not pass an `input_shape`/`input_dim` argument to a layer. When using Sequential models, prefer using an `Input(shape)` object as the first layer in the model instead.\n",
      "  super().__init__(**kwargs)\n"
     ]
    },
    {
     "name": "stdout",
     "output_type": "stream",
     "text": [
      "SSN RMSE: 9.5672, PICP: 0.4959, MPIW: 18.2920\n",
      "TSI RMSE: 0.2021, PICP: 0.0000, MPIW: 0.0000\n",
      "Running combination 102/105: Cycle 23, Seq Length 120, Horizon 6\n"
     ]
    },
    {
     "name": "stderr",
     "output_type": "stream",
     "text": [
      "/opt/anaconda3/envs/ssn/lib/python3.11/site-packages/keras/src/layers/rnn/rnn.py:200: UserWarning: Do not pass an `input_shape`/`input_dim` argument to a layer. When using Sequential models, prefer using an `Input(shape)` object as the first layer in the model instead.\n",
      "  super().__init__(**kwargs)\n"
     ]
    },
    {
     "name": "stdout",
     "output_type": "stream",
     "text": [
      "SSN RMSE: 6.4610, PICP: 0.6009, MPIW: 14.1354\n",
      "TSI RMSE: 0.1980, PICP: 0.0000, MPIW: 0.0000\n",
      "Running combination 103/105: Cycle 23, Seq Length 132, Horizon 1\n"
     ]
    },
    {
     "name": "stderr",
     "output_type": "stream",
     "text": [
      "/opt/anaconda3/envs/ssn/lib/python3.11/site-packages/keras/src/layers/rnn/rnn.py:200: UserWarning: Do not pass an `input_shape`/`input_dim` argument to a layer. When using Sequential models, prefer using an `Input(shape)` object as the first layer in the model instead.\n",
      "  super().__init__(**kwargs)\n"
     ]
    },
    {
     "name": "stdout",
     "output_type": "stream",
     "text": [
      "SSN RMSE: 6.6324, PICP: 0.6047, MPIW: 11.6652\n",
      "TSI RMSE: 0.1648, PICP: 0.0000, MPIW: 0.0000\n",
      "Running combination 104/105: Cycle 23, Seq Length 132, Horizon 3\n"
     ]
    },
    {
     "name": "stderr",
     "output_type": "stream",
     "text": [
      "/opt/anaconda3/envs/ssn/lib/python3.11/site-packages/keras/src/layers/rnn/rnn.py:200: UserWarning: Do not pass an `input_shape`/`input_dim` argument to a layer. When using Sequential models, prefer using an `Input(shape)` object as the first layer in the model instead.\n",
      "  super().__init__(**kwargs)\n"
     ]
    },
    {
     "name": "stdout",
     "output_type": "stream",
     "text": [
      "SSN RMSE: 14.2138, PICP: 0.1545, MPIW: 9.5937\n",
      "TSI RMSE: 0.2212, PICP: 0.0000, MPIW: 0.0000\n",
      "Running combination 105/105: Cycle 23, Seq Length 132, Horizon 6\n"
     ]
    },
    {
     "name": "stderr",
     "output_type": "stream",
     "text": [
      "/opt/anaconda3/envs/ssn/lib/python3.11/site-packages/keras/src/layers/rnn/rnn.py:200: UserWarning: Do not pass an `input_shape`/`input_dim` argument to a layer. When using Sequential models, prefer using an `Input(shape)` object as the first layer in the model instead.\n",
      "  super().__init__(**kwargs)\n"
     ]
    },
    {
     "name": "stdout",
     "output_type": "stream",
     "text": [
      "SSN RMSE: 7.6959, PICP: 0.7456, MPIW: 19.6677\n",
      "TSI RMSE: 0.2200, PICP: 0.0000, MPIW: 0.0000\n",
      "\n",
      "Top 5 combinations for SSN based on RMSE:\n",
      "1. Cycles: 7, Seq Length: 96 months, Horizon: 1 months\n",
      "   RMSE: 3.2134, PICP: 0.4651, MPIW: 6.2283\n",
      "2. Cycles: 7, Seq Length: 108 months, Horizon: 1 months\n",
      "   RMSE: 3.3964, PICP: 0.4186, MPIW: 5.5701\n",
      "3. Cycles: 7, Seq Length: 132 months, Horizon: 1 months\n",
      "   RMSE: 3.4723, PICP: 0.1395, MPIW: 3.2378\n",
      "4. Cycles: 7, Seq Length: 60 months, Horizon: 1 months\n",
      "   RMSE: 3.7254, PICP: 0.3721, MPIW: 5.1186\n",
      "5. Cycles: 6, Seq Length: 120 months, Horizon: 1 months\n",
      "   RMSE: 3.7426, PICP: 0.2558, MPIW: 3.7024\n",
      "\n",
      "Top 5 combinations for TSI based on RMSE:\n",
      "1. Cycles: 7, Seq Length: 96 months, Horizon: 1 months\n",
      "   RMSE: 0.0738, PICP: 0.0000, MPIW: 0.0000\n",
      "2. Cycles: 7, Seq Length: 60 months, Horizon: 1 months\n",
      "   RMSE: 0.0753, PICP: 0.0000, MPIW: 0.0000\n",
      "3. Cycles: 7, Seq Length: 84 months, Horizon: 1 months\n",
      "   RMSE: 0.0790, PICP: 0.0000, MPIW: 0.0000\n",
      "4. Cycles: 6, Seq Length: 72 months, Horizon: 1 months\n",
      "   RMSE: 0.0791, PICP: 0.0000, MPIW: 0.0000\n",
      "5. Cycles: 7, Seq Length: 108 months, Horizon: 1 months\n",
      "   RMSE: 0.0794, PICP: 0.0000, MPIW: 0.0000\n"
     ]
    }
   ],
   "source": [
    "import numpy as np\n",
    "import pandas as pd\n",
    "import tensorflow as tf\n",
    "from tensorflow.keras.models import Sequential, load_model\n",
    "from tensorflow.keras.layers import LSTM, Dense, Dropout\n",
    "from tensorflow.keras.callbacks import ModelCheckpoint\n",
    "import matplotlib.pyplot as plt\n",
    "from sklearn.preprocessing import MinMaxScaler\n",
    "from sklearn.decomposition import PCA\n",
    "from sklearn.metrics import mean_squared_error\n",
    "import os\n",
    "import pickle\n",
    "import datetime\n",
    "import csv\n",
    "\n",
    "np.random.seed(42)\n",
    "tf.random.set_seed(42)\n",
    "\n",
    "physical_devices = tf.config.list_physical_devices('GPU')\n",
    "if len(physical_devices) > 0:\n",
    "    tf.config.experimental.set_memory_growth(physical_devices[0], True)\n",
    "\n",
    "def load_data(file_path):\n",
    "    df = pd.read_csv(file_path)\n",
    "    df['date'] = pd.to_datetime(df[['year', 'month']].assign(day=1))\n",
    "    df = df.set_index('date')\n",
    "    return df\n",
    "\n",
    "def create_forecast_sequences(data, seq_length, forecast_horizon):\n",
    "    X, y = [], []\n",
    "    for i in range(len(data) - seq_length - forecast_horizon + 1):\n",
    "        X.append(data[i:i+seq_length])\n",
    "        y.append(data[i+seq_length:i+seq_length+forecast_horizon])\n",
    "    return np.array(X), np.array(y)\n",
    "\n",
    "def calculate_metrics(y_true, y_pred, y_lower, y_upper):\n",
    "    y_true = y_true.flatten()\n",
    "    y_pred = y_pred.flatten()\n",
    "    y_lower = y_lower.flatten()\n",
    "    y_upper = y_upper.flatten()\n",
    "    \n",
    "    rmse = np.sqrt(mean_squared_error(y_true, y_pred))\n",
    "    within_interval = np.logical_and(y_true >= y_lower, y_true <= y_upper)\n",
    "    picp = np.mean(within_interval)\n",
    "    mpiw = np.mean(y_upper - y_lower)\n",
    "    \n",
    "    return rmse, picp, mpiw\n",
    "\n",
    "def create_train_model(X_train, y_train, forecast_horizon, n_features, model_dir, bootstrap_id):\n",
    "    os.makedirs(model_dir, exist_ok=True)\n",
    "    \n",
    "    model = Sequential([\n",
    "        LSTM(64, return_sequences=True, input_shape=(X_train.shape[1], n_features)),\n",
    "        Dropout(0.2),\n",
    "        LSTM(32),\n",
    "        Dropout(0.2),\n",
    "        Dense(forecast_horizon * n_features)\n",
    "    ])\n",
    "\n",
    "    model.compile(optimizer='adam', loss='mse')\n",
    "\n",
    "    checkpoint_path = os.path.join(model_dir, f\"model_{bootstrap_id}.keras\")\n",
    "    \n",
    "    checkpoint = ModelCheckpoint(\n",
    "        checkpoint_path,\n",
    "        monitor='val_loss',\n",
    "        save_best_only=True,\n",
    "        mode='min',\n",
    "        save_weights_only=False,\n",
    "        verbose=0\n",
    "    )\n",
    "    \n",
    "    early_stopping = tf.keras.callbacks.EarlyStopping(\n",
    "        monitor='val_loss',\n",
    "        patience=10,\n",
    "        restore_best_weights=True,\n",
    "        verbose=0\n",
    "    )\n",
    "\n",
    "    history = model.fit(\n",
    "        X_train, y_train,\n",
    "        epochs=100,\n",
    "        batch_size=32,\n",
    "        validation_split=0.2,\n",
    "        callbacks=[checkpoint, early_stopping],\n",
    "        verbose=0\n",
    "    )\n",
    "\n",
    "    return model, history\n",
    "\n",
    "def generate_bootstrap_forecasts(X_train, y_train, X_val, forecast_horizon, n_components, \n",
    "                                model_dir, num_bootstraps=5):\n",
    "    os.makedirs(model_dir, exist_ok=True)\n",
    "    \n",
    "    forecasts = []\n",
    "    models = []\n",
    "\n",
    "    for i in range(num_bootstraps):\n",
    "        indices = np.random.choice(len(X_train), len(X_train), replace=True)\n",
    "        X_bootstrap = X_train[indices]\n",
    "        y_bootstrap = y_train[indices]\n",
    "\n",
    "        model, _ = create_train_model(X_bootstrap, y_bootstrap, forecast_horizon, n_components, model_dir, i)\n",
    "        models.append(model)\n",
    "\n",
    "        forecast = model.predict(X_val, verbose=0)\n",
    "        forecasts.append(forecast)\n",
    "\n",
    "    forecasts = np.array(forecasts)\n",
    "    mean_forecast = np.mean(forecasts, axis=0)\n",
    "    lower_bound = np.quantile(forecasts, 0.05, axis=0)\n",
    "    upper_bound = np.quantile(forecasts, 0.95, axis=0)\n",
    "\n",
    "    return mean_forecast, lower_bound, upper_bound, models, forecasts\n",
    "\n",
    "def generate_future_dates(start_date, months):\n",
    "    return [start_date + pd.DateOffset(months=i) for i in range(months)]\n",
    "\n",
    "def plot_forecast(df, val_dates, mean_forecast_inv, lower_bound_inv, upper_bound_inv, \n",
    "                 future_dates, future_forecast, future_lower, future_upper,\n",
    "                 cycle_24_start, cycle_25_start, forecast_horizon, target_var,\n",
    "                 output_dir, cycle_count, seq_length, avg_rmse, avg_picp, avg_mpiw):\n",
    "    start_date = pd.to_datetime('1996-01-01')\n",
    "    plt.figure(figsize=(15, 8))\n",
    "\n",
    "    historical_mask = df.index >= start_date\n",
    "    plt.plot(df.index[historical_mask], df[target_var][historical_mask], 'b-', label=f'Historical {target_var} Data')\n",
    "\n",
    "    for i in range(len(mean_forecast_inv)):\n",
    "        pred_dates = val_dates[i:i+forecast_horizon]\n",
    "        if len(pred_dates) == len(mean_forecast_inv[i]):\n",
    "            plt.plot(pred_dates, mean_forecast_inv[i], 'r-', alpha=0.5, label=f'Validation {target_var} Predictions' if i == 0 else \"\")\n",
    "            plt.fill_between(pred_dates, lower_bound_inv[i], upper_bound_inv[i], color='r', alpha=0.2, label='90% Confidence Interval' if i == 0 else \"\")\n",
    "\n",
    "    plt.plot(future_dates[:len(future_forecast)], future_forecast, 'g-', label=f'Future {target_var} Forecast')\n",
    "    plt.fill_between(future_dates[:len(future_forecast)], future_lower, future_upper, color='g', alpha=0.2, label='90% Future Confidence Interval')\n",
    "\n",
    "    plt.axvline(x=cycle_24_start, color='k', linestyle='--', label='Cycle 24 Start')\n",
    "    plt.axvline(x=cycle_25_start, color='k', linestyle='--', label='Cycle 25 Start')\n",
    "    plt.title(f'{target_var} Forecast - Cycles:{cycle_count} Seq:{seq_length}mo Hor:{forecast_horizon}mo\\nRMSE:{avg_rmse:.4f} PICP:{avg_picp:.4f} MPIW:{avg_mpiw:.4f}')\n",
    "    plt.xlabel('Date')\n",
    "    plt.ylabel(f'{target_var}')\n",
    "    plt.legend()\n",
    "    plt.grid(True)\n",
    "    filename = f'cycles{cycle_count}_seq{seq_length}_hor{forecast_horizon}.png'\n",
    "    plt.savefig(os.path.join(output_dir, filename), dpi=300, bbox_inches='tight')\n",
    "    plt.close()\n",
    "\n",
    "def main():\n",
    "    ssn_df = load_data('/Users/suryatejachalla/Projects/Solar-Data-Analysis/Data/processed/sunspot.csv')\n",
    "    tsi_df = load_data('/Users/suryatejachalla/Projects/Solar-Data-Analysis/Data/processed/tsi.csv')\n",
    "    \n",
    "    df = pd.merge(ssn_df, tsi_df, left_index=True, right_index=True, suffixes=('', '_tsi'))\n",
    "    df = df.rename(columns={'tsi_tsi': 'tsi'})\n",
    "    \n",
    "    cycle_dates = {\n",
    "        19: pd.to_datetime('1954-04-01'),\n",
    "        20: pd.to_datetime('1964-10-01'),\n",
    "        21: pd.to_datetime('1976-03-01'),\n",
    "        22: pd.to_datetime('1986-09-01'),\n",
    "        23: pd.to_datetime('1996-08-01'),\n",
    "        24: pd.to_datetime('2008-12-01'),\n",
    "        25: pd.to_datetime('2019-12-01')\n",
    "    }\n",
    "    \n",
    "    ssn_output_dir = \"ssn_forecasts\"\n",
    "    tsi_output_dir = \"tsi_forecasts\"\n",
    "    os.makedirs(ssn_output_dir, exist_ok=True)\n",
    "    os.makedirs(tsi_output_dir, exist_ok=True)\n",
    "    \n",
    "    features = df[['ssn', 'tsi']].values\n",
    "    \n",
    "    n_components = 2\n",
    "    pca = PCA(n_components=n_components)\n",
    "    pca_features = pca.fit_transform(features)\n",
    "    \n",
    "    pca_scaler = MinMaxScaler(feature_range=(0, 1))\n",
    "    pca_scaled = pca_scaler.fit_transform(pca_features)\n",
    "    \n",
    "    cycle_options = [19, 20, 21, 22, 23]\n",
    "    seq_length_options = [60, 72, 84, 96, 108, 120, 132]\n",
    "    forecast_horizon_options = [1, 3, 6]\n",
    "    \n",
    "    validation_start = pd.to_datetime('2021-01-01')\n",
    "    val_data = pca_scaled[(df.index >= validation_start)]\n",
    "    val_dates = df.index[(df.index >= validation_start)]\n",
    "    \n",
    "    results = []\n",
    "    total_combinations = len(cycle_options) * len(seq_length_options) * len(forecast_horizon_options)\n",
    "    combination_count = 0\n",
    "    \n",
    "    with open('forecast_results.csv', 'w', newline='') as csvfile:\n",
    "        writer = csv.writer(csvfile)\n",
    "        writer.writerow(['combination', 'cycle_start', 'seq_length_months', 'forecast_horizon', \n",
    "                         'ssn_rmse', 'ssn_picp', 'ssn_mpiw', \n",
    "                         'tsi_rmse', 'tsi_picp', 'tsi_mpiw'])\n",
    "    \n",
    "    for cycle_start in cycle_options:\n",
    "        for seq_length in seq_length_options:\n",
    "            for forecast_horizon in forecast_horizon_options:\n",
    "                combination_count += 1\n",
    "                print(f\"Running combination {combination_count}/{total_combinations}: Cycle {cycle_start}, Seq Length {seq_length}, Horizon {forecast_horizon}\")\n",
    "                \n",
    "                try:\n",
    "                    train_start_date = cycle_dates[cycle_start]\n",
    "                    train_end_date = cycle_dates[25]\n",
    "                    \n",
    "                    train_data = pca_scaled[(df.index >= train_start_date) & (df.index < train_end_date)]\n",
    "                    \n",
    "                    if len(train_data) <= seq_length + forecast_horizon:\n",
    "                        print(f\"Skipping - insufficient data for this combination\")\n",
    "                        continue\n",
    "                    \n",
    "                    model_dir = f\"models_cycle{cycle_start}_seq{seq_length}_hor{forecast_horizon}\"\n",
    "                    \n",
    "                    X_train, y_train = create_forecast_sequences(train_data, seq_length, forecast_horizon)\n",
    "                    \n",
    "                    y_train_flattened = y_train.reshape(y_train.shape[0], -1)\n",
    "                    \n",
    "                    X_val = []\n",
    "                    y_val_pc = []\n",
    "                    \n",
    "                    for i in range(len(val_dates) - forecast_horizon + 1):\n",
    "                        start_idx = df.index.get_loc(val_dates[i]) - seq_length\n",
    "                        end_idx = df.index.get_loc(val_dates[i])\n",
    "                        forecast_end_idx = df.index.get_loc(val_dates[i]) + forecast_horizon\n",
    "                        \n",
    "                        if start_idx >= 0:\n",
    "                            X_val.append(pca_scaled[start_idx:end_idx])\n",
    "                            y_val_pc.append(pca_scaled[end_idx:forecast_end_idx])\n",
    "                    \n",
    "                    X_val = np.array(X_val)\n",
    "                    y_val_pc = np.array(y_val_pc)\n",
    "                    \n",
    "                    if len(X_val) == 0:\n",
    "                        print(f\"Skipping - cannot create validation sequences for this combination\")\n",
    "                        continue\n",
    "                    \n",
    "                    num_bootstraps = 5\n",
    "                    mean_forecast, lower_bound, upper_bound, models, forecasts = generate_bootstrap_forecasts(\n",
    "                        X_train, y_train_flattened, X_val, forecast_horizon, n_components, \n",
    "                        model_dir, num_bootstraps=num_bootstraps\n",
    "                    )\n",
    "                    \n",
    "                    mean_forecast_reshaped = mean_forecast.reshape(-1, forecast_horizon, n_components)\n",
    "                    lower_bound_reshaped = lower_bound.reshape(-1, forecast_horizon, n_components)\n",
    "                    upper_bound_reshaped = upper_bound.reshape(-1, forecast_horizon, n_components)\n",
    "                    \n",
    "                    mean_forecast_scaled = np.array([pca_scaler.inverse_transform(f) for f in mean_forecast_reshaped])\n",
    "                    lower_bound_scaled = np.array([pca_scaler.inverse_transform(f) for f in lower_bound_reshaped])\n",
    "                    upper_bound_scaled = np.array([pca_scaler.inverse_transform(f) for f in upper_bound_reshaped])\n",
    "                    \n",
    "                    mean_forecast_original = np.array([pca.inverse_transform(f) for f in mean_forecast_scaled])\n",
    "                    lower_bound_original = np.array([pca.inverse_transform(f) for f in lower_bound_scaled])\n",
    "                    upper_bound_original = np.array([pca.inverse_transform(f) for f in upper_bound_scaled])\n",
    "                    \n",
    "                    ssn_mean_forecast_inv = np.array([f[:, 0] for f in mean_forecast_original])\n",
    "                    ssn_lower_bound_inv = np.array([f[:, 0] for f in lower_bound_original])\n",
    "                    ssn_upper_bound_inv = np.array([f[:, 0] for f in upper_bound_original])\n",
    "                    \n",
    "                    tsi_mean_forecast_inv = np.array([f[:, 1] for f in mean_forecast_original])\n",
    "                    tsi_lower_bound_inv = np.array([f[:, 1] for f in lower_bound_original])\n",
    "                    tsi_upper_bound_inv = np.array([f[:, 1] for f in lower_bound_original])\n",
    "                    \n",
    "                    ssn_actual_values = []\n",
    "                    tsi_actual_values = []\n",
    "                    \n",
    "                    for i in range(len(y_val_pc)):\n",
    "                        pc_inv = pca_scaler.inverse_transform(y_val_pc[i])\n",
    "                        original_inv = pca.inverse_transform(pc_inv)\n",
    "                        \n",
    "                        ssn_inv = original_inv[:, 0]\n",
    "                        tsi_inv = original_inv[:, 1]\n",
    "                        \n",
    "                        ssn_actual_values.append(ssn_inv)\n",
    "                        tsi_actual_values.append(tsi_inv)\n",
    "                    \n",
    "                    ssn_actual_values = np.array(ssn_actual_values)\n",
    "                    tsi_actual_values = np.array(tsi_actual_values)\n",
    "                    \n",
    "                    ssn_avg_rmse, ssn_avg_picp, ssn_avg_mpiw = 0, 0, 0\n",
    "                    tsi_avg_rmse, tsi_avg_picp, tsi_avg_mpiw = 0, 0, 0\n",
    "                    \n",
    "                    for i in range(len(ssn_actual_values)):\n",
    "                        if i < len(ssn_mean_forecast_inv):\n",
    "                            ssn_rmse, ssn_picp, ssn_mpiw = calculate_metrics(\n",
    "                                ssn_actual_values[i],\n",
    "                                ssn_mean_forecast_inv[i],\n",
    "                                ssn_lower_bound_inv[i],\n",
    "                                ssn_upper_bound_inv[i]\n",
    "                            )\n",
    "                            \n",
    "                            tsi_rmse, tsi_picp, tsi_mpiw = calculate_metrics(\n",
    "                                tsi_actual_values[i],\n",
    "                                tsi_mean_forecast_inv[i],\n",
    "                                tsi_lower_bound_inv[i],\n",
    "                                tsi_upper_bound_inv[i]\n",
    "                            )\n",
    "                            \n",
    "                            ssn_avg_rmse += ssn_rmse\n",
    "                            ssn_avg_picp += ssn_picp\n",
    "                            ssn_avg_mpiw += ssn_mpiw\n",
    "                            \n",
    "                            tsi_avg_rmse += tsi_rmse\n",
    "                            tsi_avg_picp += tsi_picp\n",
    "                            tsi_avg_mpiw += tsi_mpiw\n",
    "                    \n",
    "                    if len(ssn_mean_forecast_inv) > 0:\n",
    "                        ssn_avg_rmse /= len(ssn_mean_forecast_inv)\n",
    "                        ssn_avg_picp /= len(ssn_mean_forecast_inv)\n",
    "                        ssn_avg_mpiw /= len(ssn_mean_forecast_inv)\n",
    "                        \n",
    "                        tsi_avg_rmse /= len(tsi_mean_forecast_inv)\n",
    "                        tsi_avg_picp /= len(tsi_mean_forecast_inv)\n",
    "                        tsi_avg_mpiw /= len(tsi_mean_forecast_inv)\n",
    "                    \n",
    "                    print(f\"SSN RMSE: {ssn_avg_rmse:.4f}, PICP: {ssn_avg_picp:.4f}, MPIW: {ssn_avg_mpiw:.4f}\")\n",
    "                    print(f\"TSI RMSE: {tsi_avg_rmse:.4f}, PICP: {tsi_avg_picp:.4f}, MPIW: {tsi_avg_mpiw:.4f}\")\n",
    "                    \n",
    "                    last_date = df.index[-1]\n",
    "                    future_months = (pd.to_datetime('2030-12-01') - last_date).days // 30\n",
    "                    future_dates = generate_future_dates(last_date, future_months)\n",
    "\n",
    "                    future_sequence = pca_scaled[-seq_length:]\n",
    "\n",
    "                    future_forecast_steps = []\n",
    "                    future_lower_bounds = []\n",
    "                    future_upper_bounds = []\n",
    "                    current_sequence = future_sequence.copy()\n",
    "\n",
    "                    for i in range(0, future_months, forecast_horizon):\n",
    "                        steps = min(forecast_horizon, future_months - i)\n",
    "                        \n",
    "                        all_forecasts = []\n",
    "                        for model in models:\n",
    "                            forecast = model.predict(np.array([current_sequence]), verbose=0)\n",
    "                            forecast = forecast.reshape(-1, n_components)[:steps]\n",
    "                            all_forecasts.append(forecast)\n",
    "                        \n",
    "                        all_forecasts = np.array(all_forecasts)\n",
    "                        mean_forecast = np.mean(all_forecasts, axis=0)\n",
    "                        lower_bound = np.quantile(all_forecasts, 0.05, axis=0)\n",
    "                        upper_bound = np.quantile(all_forecasts, 0.95, axis=0)\n",
    "                        \n",
    "                        future_forecast_steps.append(mean_forecast)\n",
    "                        future_lower_bounds.append(lower_bound)\n",
    "                        future_upper_bounds.append(upper_bound)\n",
    "                        \n",
    "                        current_sequence = np.vstack((current_sequence[steps:], mean_forecast))\n",
    "\n",
    "                    future_forecasts = np.vstack(future_forecast_steps)\n",
    "                    future_lowers = np.vstack(future_lower_bounds)\n",
    "                    future_uppers = np.vstack(future_upper_bounds)\n",
    "\n",
    "                    future_forecasts_scaled = pca_scaler.inverse_transform(future_forecasts)\n",
    "                    future_lowers_scaled = pca_scaler.inverse_transform(future_lowers)\n",
    "                    future_uppers_scaled = pca_scaler.inverse_transform(future_uppers)\n",
    "\n",
    "                    future_forecasts_original = pca.inverse_transform(future_forecasts_scaled)\n",
    "                    future_lowers_original = pca.inverse_transform(future_lowers_scaled)\n",
    "                    future_uppers_original = pca.inverse_transform(future_uppers_scaled)\n",
    "\n",
    "                    future_ssn = future_forecasts_original[:, 0]\n",
    "                    future_ssn_lower = future_lowers_original[:, 0]\n",
    "                    future_ssn_upper = future_uppers_original[:, 0]\n",
    "\n",
    "                    future_tsi = future_forecasts_original[:, 1]\n",
    "                    future_tsi_lower = future_lowers_original[:, 1]\n",
    "                    future_tsi_upper = future_uppers_original[:, 1]\n",
    "                    \n",
    "                    plot_forecast(\n",
    "                        df, val_dates, ssn_mean_forecast_inv, ssn_lower_bound_inv, ssn_upper_bound_inv,\n",
    "                        future_dates, future_ssn, future_ssn_lower, future_ssn_upper,\n",
    "                        cycle_dates[24], cycle_dates[25], forecast_horizon, 'ssn',\n",
    "                        ssn_output_dir, 25-cycle_start+1, seq_length, ssn_avg_rmse, ssn_avg_picp, ssn_avg_mpiw\n",
    "                    )\n",
    "                    \n",
    "                    plot_forecast(\n",
    "                        df, val_dates, tsi_mean_forecast_inv, tsi_lower_bound_inv, tsi_upper_bound_inv,\n",
    "                        future_dates, future_tsi, future_tsi_lower, future_tsi_upper,\n",
    "                        cycle_dates[24], cycle_dates[25], forecast_horizon, 'tsi',\n",
    "                        tsi_output_dir, 25-cycle_start+1, seq_length, tsi_avg_rmse, tsi_avg_picp, tsi_avg_mpiw\n",
    "                    )\n",
    "                    \n",
    "                    result = {\n",
    "                        'combination': combination_count,\n",
    "                        'cycle_start': cycle_start,\n",
    "                        'seq_length': seq_length,\n",
    "                        'forecast_horizon': forecast_horizon,\n",
    "                        'ssn_rmse': ssn_avg_rmse,\n",
    "                        'ssn_picp': ssn_avg_picp,\n",
    "                        'ssn_mpiw': ssn_avg_mpiw,\n",
    "                        'tsi_rmse': tsi_avg_rmse,\n",
    "                        'tsi_picp': tsi_avg_picp,\n",
    "                        'tsi_mpiw': tsi_avg_mpiw\n",
    "                    }\n",
    "                    results.append(result)\n",
    "                    \n",
    "                    with open('forecast_results.csv', 'a', newline='') as csvfile:\n",
    "                        writer = csv.writer(csvfile)\n",
    "                        writer.writerow([\n",
    "                            combination_count, cycle_start, seq_length, forecast_horizon,\n",
    "                            ssn_avg_rmse, ssn_avg_picp, ssn_avg_mpiw,\n",
    "                            tsi_avg_rmse, tsi_avg_picp, tsi_avg_mpiw\n",
    "                        ])\n",
    "                \n",
    "                except Exception as e:\n",
    "                    print(f\"Error processing combination: {e}\")\n",
    "                    continue\n",
    "    \n",
    "    print(\"\\nTop 5 combinations for SSN based on RMSE:\")\n",
    "    ssn_sorted = sorted(results, key=lambda x: x['ssn_rmse'])\n",
    "    for i, result in enumerate(ssn_sorted[:5]):\n",
    "        print(f\"{i+1}. Cycles: {25-result['cycle_start']+1}, Seq Length: {result['seq_length']} months, Horizon: {result['forecast_horizon']} months\")\n",
    "        print(f\"   RMSE: {result['ssn_rmse']:.4f}, PICP: {result['ssn_picp']:.4f}, MPIW: {result['ssn_mpiw']:.4f}\")\n",
    "    \n",
    "    print(\"\\nTop 5 combinations for TSI based on RMSE:\")\n",
    "    tsi_sorted = sorted(results, key=lambda x: x['tsi_rmse'])\n",
    "    for i, result in enumerate(tsi_sorted[:5]):\n",
    "        print(f\"{i+1}. Cycles: {25-result['cycle_start']+1}, Seq Length: {result['seq_length']} months, Horizon: {result['forecast_horizon']} months\")\n",
    "        print(f\"   RMSE: {result['tsi_rmse']:.4f}, PICP: {result['tsi_picp']:.4f}, MPIW: {result['tsi_mpiw']:.4f}\")\n",
    "\n",
    "if __name__ == \"__main__\":\n",
    "    main()"
   ]
  },
  {
   "cell_type": "code",
   "execution_count": null,
   "metadata": {},
   "outputs": [],
   "source": []
  }
 ],
 "metadata": {
  "kernelspec": {
   "display_name": "ssn",
   "language": "python",
   "name": "python3"
  },
  "language_info": {
   "codemirror_mode": {
    "name": "ipython",
    "version": 3
   },
   "file_extension": ".py",
   "mimetype": "text/x-python",
   "name": "python",
   "nbconvert_exporter": "python",
   "pygments_lexer": "ipython3",
   "version": "3.11.11"
  }
 },
 "nbformat": 4,
 "nbformat_minor": 2
}
